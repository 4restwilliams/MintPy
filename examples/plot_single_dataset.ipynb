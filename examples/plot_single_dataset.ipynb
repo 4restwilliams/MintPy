{
 "cells": [
  {
   "cell_type": "code",
   "execution_count": 5,
   "metadata": {
    "collapsed": false
   },
   "outputs": [
    {
     "name": "stdout",
     "output_type": "stream",
     "text": [
      "data   coverage in y/x: (0, 0, 360, 300)\n",
      "subset coverage in y/x: (0, 0, 360, 300)\n",
      "data   coverage in lat/lon: (131.1500975, 33.149906, 131.27009629999998, 33.049907000000005)\n",
      "subset coverage in lat/lon: (131.1500975, 33.149906, 131.27009629999998, 33.049907000000005)\n",
      "------------------------------------------------------------------------\n",
      "colormap: jet\n",
      "data    unit: m/yr\n",
      "display unit: cm/yr\n",
      "data    range: -2.17494231688 - 0.834711721442\n",
      "display range: -2 - 2\n",
      "display data in transparency: 1.0\n",
      "plot in Lat/Lon coordinate\n",
      "map projection: cyl\n",
      "boundary database resolution: c\n",
      "plotting Data ...\n",
      "plot scale bar\n",
      "plot reference point\n",
      "turn off axis display\n",
      "start\n",
      "finish\n"
     ]
    }
   ],
   "source": [
    "#! /usr/bin/env python\n",
    "import os\n",
    "import matplotlib.pyplot as plt\n",
    "import pysar._readfile as readfile\n",
    "import pysar.view as view\n",
    "\n",
    "dataDir = '/Users/jeromezhang/Documents/insarlab/Kyushu/Volcanoes/Kuju/AlosAT422'\n",
    "os.chdir(dataDir)\n",
    "velFile = dataDir+'/velocity_ex_masked.h5'\n",
    "\n",
    "# Read any file using readfile.read()\n",
    "data, atr = readfile.read(velFile)\n",
    "#h5 = h5py.File(File, 'r')\n",
    "#date='20101120'\n",
    "#data = h5['timeseries'].get(date)\n",
    "#fig1 = plt.figure(1)\n",
    "#im = plt.imshow(data, vmin=-0.02, vmax=0.02)\n",
    "\n",
    "\n",
    "# Opt 1. plot using matplot directly\n",
    "fig1 = plt.figure(1)\n",
    "im = plt.imshow(data, vmin=-0.02, vmax=0.02)\n",
    "\n",
    "\n",
    "# Opt 2. plot using pysar.view module\n",
    "# showing lat/lon, colorbar, scalebar, DEM background, reference point, etc.\n",
    "# 2.1 Initiate a namespace object inps\n",
    "inps = view.cmdLineParse([''])\n",
    "inps = view.update_plot_inps_with_meta_dict(inps, atr)\n",
    "# 2.2 change default values\n",
    "inps.disp_unit = 'cm/yr'\n",
    "inps.disp_min = -2\n",
    "inps.disp_max = 2\n",
    "inps.disp_axis = False\n",
    "#inps.dem_file = dataDir+'/gsi10m_30m.dem'\n",
    "# 2.3 Plot\n",
    "fig2 = plt.figure(2)\n",
    "ax2 = fig2.add_axes([0.1,0.1,0.8,0.8])\n",
    "ax2, inps = view.plot_matrix(ax2, data, atr, inps)\n",
    "del inps\n",
    "\n",
    "print 'start'\n",
    "plt.savefig('test.png')\n",
    "print 'finish'\n",
    "\n",
    "#plt.show()\n"
   ]
  },
  {
   "cell_type": "code",
   "execution_count": null,
   "metadata": {
    "collapsed": true
   },
   "outputs": [],
   "source": []
  },
  {
   "cell_type": "code",
   "execution_count": null,
   "metadata": {
    "collapsed": true
   },
   "outputs": [],
   "source": []
  }
 ],
 "metadata": {
  "anaconda-cloud": {},
  "kernelspec": {
   "display_name": "Python [default]",
   "language": "python",
   "name": "python2"
  },
  "language_info": {
   "codemirror_mode": {
    "name": "ipython",
    "version": 2
   },
   "file_extension": ".py",
   "mimetype": "text/x-python",
   "name": "python",
   "nbconvert_exporter": "python",
   "pygments_lexer": "ipython2",
   "version": "2.7.13"
  }
 },
 "nbformat": 4,
 "nbformat_minor": 2
}
