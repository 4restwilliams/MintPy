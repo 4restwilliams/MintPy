{
 "cells": [
  {
   "cell_type": "code",
   "execution_count": 1,
   "metadata": {},
   "outputs": [
    {
     "name": "stdout",
     "output_type": "stream",
     "text": [
      "Done.\n"
     ]
    }
   ],
   "source": [
    "## Notebook example to read the time-series value / coordinate info\n",
    "\n",
    "% matplotlib inline\n",
    "import os\n",
    "import numpy as np\n",
    "import matplotlib.pyplot as plt\n",
    "from pysar.objects import timeseries\n",
    "from pysar.utils import readfile\n",
    "\n",
    "work_dir = os.path.expanduser('~/insarlab/PYSAR_EXAMPLE/FernandinaSenDT128/PYSAR/GEOCODE')\n",
    "ts_file   = os.path.join(work_dir, 'geo_timeseries_ECMWF_ramp_demErr_masked.h5')\n",
    "vel_file  = os.path.join(work_dir, 'geo_velocity_masked.h5')\n",
    "tcoh_file = os.path.join(work_dir, 'geo_temporalCoherence.h5')\n",
    "\n",
    "\n",
    "def get_lat_lon(meta, box=None):\n",
    "    \"\"\"extract lat/lon info of all grids into 2D matrix\n",
    "    Parameters: meta : dict, including X/Y_FIRST/STEP and LENGTH/WIDTH info\n",
    "                box  : 4-tuple of int for (x0, y0, x1, y1)\n",
    "    Returns:    lats : 2D np.array for latitude  in size of (length, width)\n",
    "                lons : 2D np.array for longitude in size of (length, width)\n",
    "    \"\"\"\n",
    "    length, width = int(meta['LENGTH']), int(meta['WIDTH'])\n",
    "    if box is None:\n",
    "        box = (0, 0, width, length)\n",
    "\n",
    "    # generate 2D matrix for lat/lon\n",
    "    lat_num = box[3] - box[1]\n",
    "    lon_num = box[2] - box[0]\n",
    "    lat_step = float(meta['Y_STEP'])\n",
    "    lon_step = float(meta['X_STEP'])\n",
    "    lat0 = float(meta['Y_FIRST']) + lat_step * box[1]\n",
    "    lon0 = float(meta['X_FIRST']) + lon_step * box[0]\n",
    "    lat1 = lat0 + lat_step * lat_num\n",
    "    lon1 = lon0 + lon_step * lon_num\n",
    "    lats, lons = np.mgrid[lat0:lat1:lat_num*1j,\n",
    "                          lon0:lon1:lon_num*1j]\n",
    "    return lats, lons\n",
    "\n",
    "def split_into_sub_boxes(ds_shape, win_size=300, print_msg=True):\n",
    "    \"\"\"split input shape into multiple sub boxes\n",
    "    Parameters: ds_shape : 2-tuple of int for the shape of whole dataset in (length, width)\n",
    "                win_size : int, size of path in one direction\n",
    "    Returns:    box_list : list of 4-tuple of int, each indicating (col0, row0, col1, row1)\n",
    "    \"\"\"\n",
    "    length, width = ds_shape\n",
    "    # number of sub boxes\n",
    "    nrows = np.ceil(length / win_size).astype(int)\n",
    "    ncols = np.ceil(width / win_size).astype(int)\n",
    "    if print_msg:\n",
    "        print('input data shape in row/col: {}/{}'.format(length, width))\n",
    "        print('max box size: {}'.format(win_size))\n",
    "        print('number of output boxes: {}'.format(nrows * ncols))\n",
    "    # start/end row/column number of each box\n",
    "    box_list = []\n",
    "    for i in range(nrows):\n",
    "        r0 = i * win_size\n",
    "        r1 = min([length, r0 + win_size])\n",
    "        for j in range(ncols):\n",
    "            c0 = j * win_size\n",
    "            c1 = min([width, c0 + win_size])\n",
    "        box = (c0, r0, c1, r1)\n",
    "        box_list.append(box)\n",
    "    return box_list\n",
    "\n",
    "print('Done.')"
   ]
  },
  {
   "cell_type": "code",
   "execution_count": 2,
   "metadata": {},
   "outputs": [
    {
     "name": "stdout",
     "output_type": "stream",
     "text": [
      "open timeseries file: geo_timeseries_ECMWF_ramp_demErr_masked.h5\n",
      "input data shape in row/col: 450/600\n",
      "max box size: 300\n",
      "number of output boxes: 4\n",
      "read velocity data\n",
      "read time-series data\n",
      "read temporal coherence data\n"
     ]
    }
   ],
   "source": [
    "ts_obj = timeseries(ts_file)\n",
    "ts_obj.open()\n",
    "\n",
    "# split into multiple boxes and read the data for the first one as demo\n",
    "box_list = split_into_sub_boxes((ts_obj.length, ts_obj.width))\n",
    "box = box_list[0]\n",
    "\n",
    "if box is None:\n",
    "    box = (0, 0, ts_obj.width, ts_obj.length)\n",
    "length = box[3] - box[1]\n",
    "width = box[2] - box[0]\n",
    "\n",
    "# 1 Date\n",
    "dates = np.array(ts_obj.times)\n",
    "\n",
    "# 2 Spatial coordinates\n",
    "lats, lons = get_lat_lon(ts_obj.metadata, box=box)\n",
    "rows, cols = np.mgrid[box[1]:box[3] - 1:length * 1j,\n",
    "                      box[0]:box[2] - 1:width * 1j]\n",
    "\n",
    "# 3 Velocity / time-series\n",
    "print('read velocity data')\n",
    "vel = readfile.read(vel_file, datasetName='velocity', box=box)[0] * 100.\n",
    "vel_std = readfile.read(vel_file, datasetName='velocityStd', box=box)[0] * 100.\n",
    "print('read time-series data')\n",
    "ts_data = readfile.read(ts_file, box=box)[0] * 100.\n",
    "ts_data -= np.tile(ts_data[0, :, :], (ts_data.shape[0], 1, 1))  # enforce displacement starts from zero\n",
    "print('read temporal coherence data')\n",
    "temp_coh = readfile.read(tcoh_file, box=box)[0]\n",
    "mask = ~np.isnan(vel)"
   ]
  },
  {
   "cell_type": "code",
   "execution_count": 4,
   "metadata": {},
   "outputs": [
    {
     "data": {
      "image/png": "[encoded data removed]",
      "text/plain": [
       "<Figure size 432x288 with 1 Axes>"
      ]
     },
     "metadata": {
      "needs_background": "light"
     },
     "output_type": "display_data"
    }
   ],
   "source": [
    "# This is how the time-series looks like\n",
    "idx = 100\n",
    "plt.figure()\n",
    "plt.plot(dates, ts_data[:, idx, idx], '.')\n",
    "plt.show()"
   ]
  },
  {
   "cell_type": "code",
   "execution_count": 5,
   "metadata": {},
   "outputs": [
    {
     "data": {
      "image/png": "[encoded data removed]",
      "text/plain": [
       "<Figure size 432x288 with 1 Axes>"
      ]
     },
     "metadata": {
      "needs_background": "light"
     },
     "output_type": "display_data"
    }
   ],
   "source": [
    "# This is how the data looks like in velocity map\n",
    "plt.figure()\n",
    "plt.imshow(vel, cmap='jet')\n",
    "plt.show()"
   ]
  },
  {
   "cell_type": "code",
   "execution_count": null,
   "metadata": {},
   "outputs": [],
   "source": []
  }
 ],
 "metadata": {
  "kernelspec": {
   "display_name": "Python 3",
   "language": "python",
   "name": "python3"
  },
  "language_info": {
   "codemirror_mode": {
    "name": "ipython",
    "version": 3
   },
   "file_extension": ".py",
   "mimetype": "text/x-python",
   "name": "python",
   "nbconvert_exporter": "python",
   "pygments_lexer": "ipython3",
   "version": "3.6.8"
  }
 },
 "nbformat": 4,
 "nbformat_minor": 2
}
