{
 "cells": [
  {
   "cell_type": "code",
   "execution_count": null,
   "metadata": {},
   "outputs": [
    {
     "name": "stdout",
     "output_type": "stream",
     "text": [
      "Go to directory ~/insarlab/Galapagos/GalapagosSenDT128/ISCE/\n",
      "computeBaseline.py -m ./master/ -s ./slaves/20141225/ -b ./baselines/20141213_20141225/20141213_20141225.txt\n",
      "computeBaseline.py -m ./master/ -s ./slaves/20150307/ -b ./baselines/20141213_20150307/20141213_20150307.txt\n",
      "computeBaseline.py -m ./master/ -s ./slaves/20150319/ -b ./baselines/20141213_20150319/20141213_20150319.txt\n",
      "computeBaseline.py -m ./master/ -s ./slaves/20150331/ -b ./baselines/20141213_20150331/20141213_20150331.txt\n",
      "computeBaseline.py -m ./master/ -s ./slaves/20150412/ -b ./baselines/20141213_20150412/20141213_20150412.txt\n",
      "computeBaseline.py -m ./master/ -s ./slaves/20150424/ -b ./baselines/20141213_20150424/20141213_20150424.txt\n",
      "computeBaseline.py -m ./master/ -s ./slaves/20150506/ -b ./baselines/20141213_20150506/20141213_20150506.txt\n",
      "computeBaseline.py -m ./master/ -s ./slaves/20150518/ -b ./baselines/20141213_20150518/20141213_20150518.txt\n",
      "computeBaseline.py -m ./master/ -s ./slaves/20150530/ -b ./baselines/20141213_20150530/20141213_20150530.txt\n",
      "computeBaseline.py -m ./master/ -s ./slaves/20150611/ -b ./baselines/20141213_20150611/20141213_20150611.txt\n",
      "computeBaseline.py -m ./master/ -s ./slaves/20150623/ -b ./baselines/20141213_20150623/20141213_20150623.txt\n",
      "computeBaseline.py -m ./master/ -s ./slaves/20150717/ -b ./baselines/20141213_20150717/20141213_20150717.txt\n",
      "computeBaseline.py -m ./master/ -s ./slaves/20150729/ -b ./baselines/20141213_20150729/20141213_20150729.txt\n",
      "computeBaseline.py -m ./master/ -s ./slaves/20150822/ -b ./baselines/20141213_20150822/20141213_20150822.txt\n",
      "computeBaseline.py -m ./master/ -s ./slaves/20150903/ -b ./baselines/20141213_20150903/20141213_20150903.txt\n",
      "computeBaseline.py -m ./master/ -s ./slaves/20150915/ -b ./baselines/20141213_20150915/20141213_20150915.txt\n",
      "computeBaseline.py -m ./master/ -s ./slaves/20150927/ -b ./baselines/20141213_20150927/20141213_20150927.txt\n",
      "computeBaseline.py -m ./master/ -s ./slaves/20151009/ -b ./baselines/20141213_20151009/20141213_20151009.txt\n",
      "computeBaseline.py -m ./master/ -s ./slaves/20151021/ -b ./baselines/20141213_20151021/20141213_20151021.txt\n",
      "computeBaseline.py -m ./master/ -s ./slaves/20151102/ -b ./baselines/20141213_20151102/20141213_20151102.txt\n",
      "computeBaseline.py -m ./master/ -s ./slaves/20151114/ -b ./baselines/20141213_20151114/20141213_20151114.txt\n"
     ]
    }
   ],
   "source": [
    "## Re-generate ./baselines folder using sentinelStack code from ISCE\n",
    "import os\n",
    "import re\n",
    "import glob\n",
    "\n",
    "work_dir = '~/insarlab/Galapagos/GalapagosSenDT128/ISCE/'\n",
    "os.chdir(os.path.expanduser(work_dir))\n",
    "print('Go to directory '+work_dir)\n",
    "\n",
    "date_list = sorted([re.findall('\\d{8}', i)[0] for i in glob.glob('merged/SLC/*')])\n",
    "m_date = date_list[0]\n",
    "\n",
    "for i in range(1, len(date_list)):\n",
    "    s_date = date_list[i]\n",
    "    date12 = '{}_{}'.format(m_date, s_date)\n",
    "    cmd = 'computeBaseline.py -m ./master/ -s ./slaves/{}/ -b ./baselines/{}/{}.txt'.format(s_date, date12, date12)\n",
    "    print(cmd)\n",
    "    os.system(cmd)"
   ]
  },
  {
   "cell_type": "code",
   "execution_count": null,
   "metadata": {
    "collapsed": true
   },
   "outputs": [],
   "source": []
  }
 ],
 "metadata": {
  "kernelspec": {
   "display_name": "Python 3",
   "language": "python",
   "name": "python3"
  },
  "language_info": {
   "codemirror_mode": {
    "name": "ipython",
    "version": 3
   },
   "file_extension": ".py",
   "mimetype": "text/x-python",
   "name": "python",
   "nbconvert_exporter": "python",
   "pygments_lexer": "ipython3",
   "version": "3.6.4"
  }
 },
 "nbformat": 4,
 "nbformat_minor": 2
}
