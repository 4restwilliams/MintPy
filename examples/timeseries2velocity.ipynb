{
 "cells": [
  {
   "cell_type": "code",
   "execution_count": 1,
   "metadata": {},
   "outputs": [
    {
     "name": "stdout",
     "output_type": "stream",
     "text": [
      "Go to directory: /Users/yunjunz/development/python/a_python_guide_to_geophysics/FernandinaSenDT128\n"
     ]
    }
   ],
   "source": [
    "import os\n",
    "import numpy as np\n",
    "from scipy import linalg\n",
    "import matplotlib.pyplot as plt\n",
    "\n",
    "work_dir = os.path.expanduser('~/development/python/a_python_guide_to_geophysics/FernandinaSenDT128')\n",
    "os.chdir(work_dir)\n",
    "print('Go to directory:', work_dir)"
   ]
  },
  {
   "cell_type": "code",
   "execution_count": 5,
   "metadata": {},
   "outputs": [
    {
     "data": {
      "image/png": "[encoded data removed]",
      "text/plain": [
       "<Figure size 432x288 with 1 Axes>"
      ]
     },
     "metadata": {},
     "output_type": "display_data"
    }
   ],
   "source": [
    "## simulation\n",
    "vel_sim = 0.1 #m/year\n",
    "num_date = 50\n",
    "t = np.arange(num_date) * 12 / 365.25 + 2014.5\n",
    "t -= t[0]\n",
    "dis_sim = t * vel_sim + np.random.rand(num_date) * 0.1\n",
    "dis_sim -= dis_sim[0]\n",
    "plt.figure()\n",
    "plt.plot(t, dis_sim, '.')\n",
    "plt.show()"
   ]
  },
  {
   "cell_type": "code",
   "execution_count": 6,
   "metadata": {},
   "outputs": [
    {
     "name": "stdout",
     "output_type": "stream",
     "text": [
      "solution 0 with velocity: 0.09771125409925505 m/year\n"
     ]
    }
   ],
   "source": [
    "## solution 0 : di = ti * v + c [right]\n",
    "A0 = np.ones((num_date, 2), dtype=np.float64)\n",
    "A0[:, 0] = t + 2014.05\n",
    "vel_est0, c0 = np.dot(np.linalg.pinv(A0), dis_sim)\n",
    "#vel_est0, c0 = linalg.lstsq(A0, dis_sim, cond=1e-15)[0]\n",
    "dis_est0 = (t + 2014.05) * vel_est0 + c0\n",
    "print('solution 0 with velocity: {} m/year'.format(vel_est0))"
   ]
  },
  {
   "cell_type": "code",
   "execution_count": 7,
   "metadata": {},
   "outputs": [
    {
     "name": "stdout",
     "output_type": "stream",
     "text": [
      "solution 1 with velocity: 0.09771125344601118 m/year\n"
     ]
    }
   ],
   "source": [
    "## solution 1 : di = ti * v + c [right]\n",
    "A1 = np.ones((num_date, 2), dtype=np.float32)\n",
    "A1[:, 0] = t\n",
    "vel_est1, c = np.dot(np.linalg.pinv(A1), dis_sim)\n",
    "#vel_est1, c = linalg.lstsq(A1, dis_sim, cond=1e-15)[0]\n",
    "dis_est1 = t * vel_est1 + c\n",
    "print('solution 1 with velocity: {} m/year'.format(vel_est1))"
   ]
  },
  {
   "cell_type": "code",
   "execution_count": 8,
   "metadata": {},
   "outputs": [
    {
     "name": "stdout",
     "output_type": "stream",
     "text": [
      "solution 2 with velocity: [0.06581752] m/year\n"
     ]
    }
   ],
   "source": [
    "## solution 2 : di - d1 = (ti - t1) * v [wrong]\n",
    "A2 = np.array(t, dtype=np.float32).reshape(-1, 1)\n",
    "vel_est2 = np.dot(np.linalg.pinv(A2), dis_sim)\n",
    "#vel_est2 = linalg.lstsq(A2, dis_sim, cond=1e-15)[0]\n",
    "dis_est2 = t* vel_est2\n",
    "print('solution 2 with velocity: {} m/year'.format(vel_est2))"
   ]
  },
  {
   "cell_type": "code",
   "execution_count": 9,
   "metadata": {},
   "outputs": [
    {
     "data": {
      "image/png": "[encoded data removed]",
      "text/plain": [
       "<Figure size 432x288 with 1 Axes>"
      ]
     },
     "metadata": {},
     "output_type": "display_data"
    }
   ],
   "source": [
    "plt.figure()\n",
    "plt.plot(t, dis_sim, '.', ms=16)\n",
    "plt.plot(t, dis_est1, '-',  lw=6, label='solution 1')\n",
    "plt.plot(t, dis_est2, '--', lw=3, label='solution 2')\n",
    "plt.legend()\n",
    "plt.show()"
   ]
  },
  {
   "cell_type": "code",
   "execution_count": null,
   "metadata": {
    "collapsed": true
   },
   "outputs": [],
   "source": []
  }
 ],
 "metadata": {
  "kernelspec": {
   "display_name": "Python 3",
   "language": "python",
   "name": "python3"
  },
  "language_info": {
   "codemirror_mode": {
    "name": "ipython",
    "version": 3
   },
   "file_extension": ".py",
   "mimetype": "text/x-python",
   "name": "python",
   "nbconvert_exporter": "python",
   "pygments_lexer": "ipython3",
   "version": "3.6.5"
  }
 },
 "nbformat": 4,
 "nbformat_minor": 2
}
