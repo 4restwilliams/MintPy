{
 "cells": [
  {
   "cell_type": "markdown",
   "metadata": {},
   "source": [
    "Given the displacement time-series in meters $d^i, i=1,...,N$, with $d^i = \\phi_{dis}^i\\frac{\\lambda}{4\\pi}$, the average velocity is estimated as:\n",
    "\n",
    "$d^i = vt_i + c, i=1,...,N$\n",
    "\n",
    "The standard deviation of the estimated velocity is given by equation (10) in Fattahi and Amelung (2015, JGR) as:\n",
    "\n",
    "$\\sigma_v = \\sqrt{\\frac{\\sum_{i=1}^N (d_i - \\hat d_i)^2}{(N-2)\\sum_{i=1}^N (t_i - \\bar t)^2}}$"
   ]
  },
  {
   "cell_type": "code",
   "execution_count": 1,
   "metadata": {},
   "outputs": [
    {
     "name": "stdout",
     "output_type": "stream",
     "text": [
      "Go to directory: /Users/yunjunz/development/python/a_python_guide_to_geophysics/FernandinaSenDT128\n"
     ]
    },
    {
     "data": {
      "image/png": "[encoded data removed]",
      "text/plain": [
       "<Figure size 432x288 with 1 Axes>"
      ]
     },
     "metadata": {
      "needs_background": "light"
     },
     "output_type": "display_data"
    },
    {
     "name": "stdout",
     "output_type": "stream",
     "text": [
      "Displacement [m]: [0.04676203 0.03380845 0.09233372 0.10954789 0.0425376  0.02208141\n",
      " 0.0606949  0.031517   0.04277979 0.09920866 0.06747816 0.05236685\n",
      " 0.07670064 0.08438799 0.10847904 0.09286139 0.11174025 0.14723052\n",
      " 0.06573902 0.07844296 0.11226066 0.13064726 0.13797129 0.08859824\n",
      " 0.17780651 0.14529875 0.09821586 0.13545946 0.1033838  0.14168544\n",
      " 0.10881662 0.16261162 0.16662631 0.17483603 0.17700295 0.19107023\n",
      " 0.15653624 0.17389047 0.21569673 0.17527397 0.19428457 0.1576779\n",
      " 0.22293642 0.14597944 0.23066048 0.19052211 0.23443317 0.18110459\n",
      " 0.19895699 0.23063947]\n",
      "Dates [year]: [2014.5        2014.53285421 2014.56570842 2014.59856263 2014.63141684\n",
      " 2014.66427105 2014.69712526 2014.72997947 2014.76283368 2014.79568789\n",
      " 2014.82854209 2014.8613963  2014.89425051 2014.92710472 2014.95995893\n",
      " 2014.99281314 2015.02566735 2015.05852156 2015.09137577 2015.12422998\n",
      " 2015.15708419 2015.1899384  2015.22279261 2015.25564682 2015.28850103\n",
      " 2015.32135524 2015.35420945 2015.38706366 2015.41991786 2015.45277207\n",
      " 2015.48562628 2015.51848049 2015.5513347  2015.58418891 2015.61704312\n",
      " 2015.64989733 2015.68275154 2015.71560575 2015.74845996 2015.78131417\n",
      " 2015.81416838 2015.84702259 2015.8798768  2015.91273101 2015.94558522\n",
      " 2015.97843943 2016.01129363 2016.04414784 2016.07700205 2016.10985626]\n",
      "True velocity [m/year]: 0.1\n"
     ]
    }
   ],
   "source": [
    "% matplotlib inline\n",
    "import os\n",
    "import numpy as np\n",
    "from scipy import linalg\n",
    "import matplotlib.pyplot as plt\n",
    "\n",
    "work_dir = os.path.expanduser('~/development/python/a_python_guide_to_geophysics/FernandinaSenDT128')\n",
    "os.chdir(work_dir)\n",
    "print('Go to directory:', work_dir)\n",
    "\n",
    "## simulate displacement time-series and dates\n",
    "vel_sim = 0.1 #m/year\n",
    "num_date = 50\n",
    "t_year = np.arange(num_date) * 12 / 365.25 + 2014.5\n",
    "dis_sim = (t_year - t_year[0]) * vel_sim + np.random.rand(num_date) * 0.1\n",
    "\n",
    "# plot\n",
    "plt.figure()\n",
    "plt.plot(t_year, dis_sim, '.')\n",
    "plt.show()\n",
    "print('Displacement [m]:', dis_sim)\n",
    "print('Dates [year]:', t_year)\n",
    "print('True velocity [m/year]:', vel_sim)"
   ]
  },
  {
   "cell_type": "code",
   "execution_count": 2,
   "metadata": {},
   "outputs": [],
   "source": [
    "# data suggested by Alfredo\n",
    "dis_sim = np.array([-1.8086457625031498,0.186711922287941,0.163397006690502,2.53471676260233,2.6658384129405,1.3161052018404,1.03259142488241,2.79430579394102,2.6088235899806,-1.25095378607512,3.94610166549683,1.25680509954691,2.39425208419561,2.8911804780363997,2.47427690774202,1.7637440934777302,2.0131049677729598,0,1.29120424389839,1.51088219136,1.78610514849424,-1.39575246721506,0.637617334723473,-0.025615282356739003,-1.56666412949562,-0.9335651993751529,1.8254803493619,1.17245968431234,1.31741557270289,1.14341955631971,1.1033475399017298,0.408359803259373,-2.37110778689384,-0.011691078543663,-0.8879272267222399,0.529961660504341])\n",
    "t_year = np.array([2018.00821917808,2018.02465753425,2018.04109589041,2018.05753424658,2018.07397260274,2018.10684931507,2018.12328767123,2018.1397260274,2018.15616438356,2018.17260273973,2018.20547945205,2018.23835616438,2018.27123287671,2018.30410958904,2018.33698630137,2018.3698630137,2018.40273972603,2018.43561643836,2018.46849315068,2018.48493150685,2018.50136986301,2018.51780821918,2018.53424657534,2018.56712328767,2018.58356164384,2018.6,2018.61643835616,2018.63287671233,2018.64931506849,2018.66575342466,2018.69863013699,2018.73150684932,2018.76438356164,2018.79726027397,2018.81369863014,2018.8301369863])\n",
    "num_date = t_year.size"
   ]
  },
  {
   "cell_type": "code",
   "execution_count": 3,
   "metadata": {},
   "outputs": [
    {
     "data": {
      "image/png": "[encoded data removed]",
      "text/plain": [
       "<Figure size 432x288 with 1 Axes>"
      ]
     },
     "metadata": {
      "needs_background": "light"
     },
     "output_type": "display_data"
    },
    {
     "name": "stdout",
     "output_type": "stream",
     "text": [
      "Estimated velocity [m/year]: -1.97\n",
      "Estimated velocity st. dev. [m/year]: 0.95\n"
     ]
    }
   ],
   "source": [
    "## least squares solution: di = ti * v + c [right]\n",
    "t = t_year - t_year[0]     # set the first date as zero to avoid precision over tolerance for the interception at the first date\n",
    "A = np.ones((num_date, 2), dtype=np.float32)\n",
    "A[:, 0] = t\n",
    "vel_est, c = np.dot(np.linalg.pinv(A), dis_sim)\n",
    "dis_est = t * vel_est + c\n",
    "\n",
    "t_mean = np.mean(t)\n",
    "vel_std = np.sqrt(np.sum(np.square(dis_sim - dis_est)) / (np.sum(np.square(t - t_mean))) / (num_date - 2))\n",
    "\n",
    "# plot\n",
    "plt.figure()\n",
    "plt.plot(t, dis_sim, '.', ms=8)\n",
    "plt.plot(t, dis_est, '-', lw=4, label='Estimated velocity')\n",
    "plt.legend()\n",
    "plt.show()\n",
    "print('Estimated velocity [m/year]: {:.2f}'.format(vel_est))\n",
    "print('Estimated velocity st. dev. [m/year]: {:.2f}'.format(vel_std))"
   ]
  },
  {
   "cell_type": "code",
   "execution_count": null,
   "metadata": {
    "collapsed": true
   },
   "outputs": [],
   "source": []
  }
 ],
 "metadata": {
  "kernelspec": {
   "display_name": "Python 3",
   "language": "python",
   "name": "python3"
  },
  "language_info": {
   "codemirror_mode": {
    "name": "ipython",
    "version": 3
   },
   "file_extension": ".py",
   "mimetype": "text/x-python",
   "name": "python",
   "nbconvert_exporter": "python",
   "pygments_lexer": "ipython3",
   "version": "3.6.8"
  }
 },
 "nbformat": 4,
 "nbformat_minor": 2
}
