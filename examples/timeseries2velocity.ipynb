{
 "cells": [
  {
   "cell_type": "markdown",
   "metadata": {},
   "source": [
    "Given the displacement time-series in meters $d^i, i=1,...,N$, with $d^i = \\phi_{dis}^i\\frac{\\lambda}{4\\pi}$, the average velocity is estimated as:\n",
    "\n",
    "$d^i = vt_i + c, i=1,...,N$\n",
    "\n",
    "The standard deviation of the estimated velocity is given by equation (10) in Fattahi and Amelung (2015, JGR) as:\n",
    "\n",
    "$\\sigma_v = \\sqrt{\\frac{\\sum_{i=1}^N (d_i - \\hat d_i)^2}{(N-2)\\sum_{i=1}^N (t_i - \\bar t)^2}}$"
   ]
  },
  {
   "cell_type": "code",
   "execution_count": 1,
   "metadata": {},
   "outputs": [
    {
     "name": "stdout",
     "output_type": "stream",
     "text": [
      "Go to directory: /Users/yunjunz/development/python/a_python_guide_to_geophysics/FernandinaSenDT128\n"
     ]
    },
    {
     "data": {
      "image/png": "[encoded data removed]",
      "text/plain": [
       "<Figure size 432x288 with 1 Axes>"
      ]
     },
     "metadata": {
      "needs_background": "light"
     },
     "output_type": "display_data"
    },
    {
     "name": "stdout",
     "output_type": "stream",
     "text": [
      "Displacement [m]: [0.04442237 0.04594193 0.03032925 0.0214184  0.02024673 0.02715829\n",
      " 0.03846687 0.0673642  0.02662426 0.06840937 0.03428454 0.06412937\n",
      " 0.11157754 0.1099961  0.11524433 0.13796383 0.06465545 0.13774929\n",
      " 0.08534099 0.13581246 0.0835308  0.14680873 0.1115186  0.13796668\n",
      " 0.1513602  0.13374387 0.09060079 0.11562265 0.16395153 0.14271233\n",
      " 0.11370377 0.1775702  0.15470198 0.14195842 0.19648902 0.17308429\n",
      " 0.13993186 0.19712358 0.15596419 0.18016341 0.21766686 0.20683246\n",
      " 0.13801767 0.16410989 0.18241265 0.2365237  0.22660745 0.22999048\n",
      " 0.24556702 0.24649592]\n",
      "Dates [year]: [2014.5        2014.53285421 2014.56570842 2014.59856263 2014.63141684\n",
      " 2014.66427105 2014.69712526 2014.72997947 2014.76283368 2014.79568789\n",
      " 2014.82854209 2014.8613963  2014.89425051 2014.92710472 2014.95995893\n",
      " 2014.99281314 2015.02566735 2015.05852156 2015.09137577 2015.12422998\n",
      " 2015.15708419 2015.1899384  2015.22279261 2015.25564682 2015.28850103\n",
      " 2015.32135524 2015.35420945 2015.38706366 2015.41991786 2015.45277207\n",
      " 2015.48562628 2015.51848049 2015.5513347  2015.58418891 2015.61704312\n",
      " 2015.64989733 2015.68275154 2015.71560575 2015.74845996 2015.78131417\n",
      " 2015.81416838 2015.84702259 2015.8798768  2015.91273101 2015.94558522\n",
      " 2015.97843943 2016.01129363 2016.04414784 2016.07700205 2016.10985626]\n",
      "True velocity [m/year]: 0.1\n"
     ]
    }
   ],
   "source": [
    "% matplotlib inline\n",
    "import os\n",
    "import numpy as np\n",
    "from scipy import linalg, stats\n",
    "import matplotlib.pyplot as plt\n",
    "\n",
    "work_dir = os.path.expanduser('~/development/python/a_python_guide_to_geophysics/FernandinaSenDT128')\n",
    "os.chdir(work_dir)\n",
    "print('Go to directory:', work_dir)\n",
    "\n",
    "## simulate displacement time-series and dates\n",
    "vel_sim = 0.1 #m/year\n",
    "num_date = 50\n",
    "t_year = np.arange(num_date) * 12 / 365.25 + 2014.5\n",
    "dis_sim = (t_year - t_year[0]) * vel_sim + np.random.rand(num_date) * 0.1\n",
    "\n",
    "# plot\n",
    "plt.figure()\n",
    "plt.plot(t_year, dis_sim, '.')\n",
    "plt.show()\n",
    "print('Displacement [m]:', dis_sim)\n",
    "print('Dates [year]:', t_year)\n",
    "print('True velocity [m/year]:', vel_sim)"
   ]
  },
  {
   "cell_type": "code",
   "execution_count": 2,
   "metadata": {},
   "outputs": [],
   "source": [
    "# data suggested by Alfredo\n",
    "dis_sim = np.array([-1.8086457625031498,0.186711922287941,0.163397006690502,2.53471676260233,2.6658384129405,1.3161052018404,1.03259142488241,2.79430579394102,2.6088235899806,-1.25095378607512,3.94610166549683,1.25680509954691,2.39425208419561,2.8911804780363997,2.47427690774202,1.7637440934777302,2.0131049677729598,0,1.29120424389839,1.51088219136,1.78610514849424,-1.39575246721506,0.637617334723473,-0.025615282356739003,-1.56666412949562,-0.9335651993751529,1.8254803493619,1.17245968431234,1.31741557270289,1.14341955631971,1.1033475399017298,0.408359803259373,-2.37110778689384,-0.011691078543663,-0.8879272267222399,0.529961660504341])\n",
    "t_year = np.array([2018.00821917808,2018.02465753425,2018.04109589041,2018.05753424658,2018.07397260274,2018.10684931507,2018.12328767123,2018.1397260274,2018.15616438356,2018.17260273973,2018.20547945205,2018.23835616438,2018.27123287671,2018.30410958904,2018.33698630137,2018.3698630137,2018.40273972603,2018.43561643836,2018.46849315068,2018.48493150685,2018.50136986301,2018.51780821918,2018.53424657534,2018.56712328767,2018.58356164384,2018.6,2018.61643835616,2018.63287671233,2018.64931506849,2018.66575342466,2018.69863013699,2018.73150684932,2018.76438356164,2018.79726027397,2018.81369863014,2018.8301369863])\n",
    "num_date = t_year.size"
   ]
  },
  {
   "cell_type": "code",
   "execution_count": 9,
   "metadata": {},
   "outputs": [
    {
     "name": "stdout",
     "output_type": "stream",
     "text": [
      "Estimation using scipy.linalg with velocity [m/year]: -1.97, velocity std [m/year]: 0.95\n",
      "Estimation using scipy.stats  with velocity [m/year]: -1.97, velocity std [m/year]: 0.95\n"
     ]
    }
   ],
   "source": [
    "## least squares solution\n",
    "# option 1 - scipy.linalg module\n",
    "t = t_year - t_year[0]     # option 1 [recommend]: set the first date as zero to avoid float32 precision over tolerance for the interception at the first date\n",
    "t = t_year                 # option 2 also works in Alfredo's data\n",
    "A = np.ones((num_date, 2), dtype=np.float32)\n",
    "A[:, 0] = t\n",
    "vel_est, c = np.dot(np.linalg.pinv(A), dis_sim)\n",
    "dis_est = t * vel_est + c\n",
    "t_mean = np.mean(t)\n",
    "vel_std = np.sqrt(np.sum(np.square(dis_sim - dis_est)) / (np.sum(np.square(t - t_mean))) / (num_date - 2))\n",
    "print('Estimation using scipy.linalg with velocity [m/year]: {:.2f}, velocity std [m/year]: {:.2f}'.format(vel_est, vel_std))\n",
    "\n",
    "## option 2 - scipy.stats.linregress()\n",
    "vfit = stats.linregress(t, dis_sim)\n",
    "vel_est = vfit[0]\n",
    "vel_std = vfit[4]\n",
    "print('Estimation using scipy.stats  with velocity [m/year]: {:.2f}, velocity std [m/year]: {:.2f}'.format(vel_est, vel_std))"
   ]
  },
  {
   "cell_type": "code",
   "execution_count": 10,
   "metadata": {},
   "outputs": [
    {
     "data": {
      "text/plain": [
       "LinregressResult(slope=-1.9660352540210282, intercept=3969.177514332285, rvalue=-0.33495009739525405, pvalue=0.04583876836398638, stderr=0.9484869654371997)"
      ]
     },
     "execution_count": 10,
     "metadata": {},
     "output_type": "execute_result"
    }
   ],
   "source": [
    "vfit"
   ]
  },
  {
   "cell_type": "code",
   "execution_count": 11,
   "metadata": {},
   "outputs": [
    {
     "data": {
      "image/png": "[encoded data removed]",
      "text/plain": [
       "<Figure size 432x288 with 1 Axes>"
      ]
     },
     "metadata": {
      "needs_background": "light"
     },
     "output_type": "display_data"
    }
   ],
   "source": [
    "# plot\n",
    "plt.figure()\n",
    "plt.plot(t, dis_sim, '.', ms=8)\n",
    "plt.plot(t, dis_est, '-', lw=4, label='Estimated velocity')\n",
    "plt.legend()\n",
    "plt.show()"
   ]
  },
  {
   "cell_type": "code",
   "execution_count": null,
   "metadata": {},
   "outputs": [],
   "source": []
  }
 ],
 "metadata": {
  "kernelspec": {
   "display_name": "Python 3",
   "language": "python",
   "name": "python3"
  },
  "language_info": {
   "codemirror_mode": {
    "name": "ipython",
    "version": 3
   },
   "file_extension": ".py",
   "mimetype": "text/x-python",
   "name": "python",
   "nbconvert_exporter": "python",
   "pygments_lexer": "ipython3",
   "version": "3.6.8"
  }
 },
 "nbformat": 4,
 "nbformat_minor": 2
}
