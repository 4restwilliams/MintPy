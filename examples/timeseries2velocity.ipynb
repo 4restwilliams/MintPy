{
 "cells": [
  {
   "cell_type": "code",
   "execution_count": 34,
   "metadata": {},
   "outputs": [
    {
     "name": "stdout",
     "output_type": "stream",
     "text": [
      "Go to directory: /Users/yunjunz/development/python/a_python_guide_to_geophysics/FernandinaSenDT128\n"
     ]
    }
   ],
   "source": [
    "import os\n",
    "import numpy as np\n",
    "from scipy import linalg\n",
    "import matplotlib.pyplot as plt\n",
    "\n",
    "work_dir = os.path.expanduser('~/development/python/a_python_guide_to_geophysics/FernandinaSenDT128')\n",
    "os.chdir(work_dir)\n",
    "print('Go to directory:', work_dir)"
   ]
  },
  {
   "cell_type": "code",
   "execution_count": 56,
   "metadata": {},
   "outputs": [
    {
     "data": {
      "image/png": "[encoded data removed]",
      "text/plain": [
       "<Figure size 432x288 with 1 Axes>"
      ]
     },
     "metadata": {},
     "output_type": "display_data"
    }
   ],
   "source": [
    "## simulation\n",
    "vel_sim = 0.1 #m/year\n",
    "num_date = 50\n",
    "t = np.arange(num_date) * 12 / 365.25 + 2014.5\n",
    "t -= t[0]\n",
    "dis_sim = t * vel_sim + np.random.rand(num_date) * 0.1\n",
    "dis_sim -= dis_sim[0]\n",
    "plt.figure()\n",
    "plt.plot(t, dis_sim, '.')\n",
    "plt.show()"
   ]
  },
  {
   "cell_type": "code",
   "execution_count": 62,
   "metadata": {},
   "outputs": [
    {
     "name": "stdout",
     "output_type": "stream",
     "text": [
      "solution 0 with velocity: 0.10664295635538748 m/year\n"
     ]
    }
   ],
   "source": [
    "## solution 0 : di = ti * v + c [right]\n",
    "A0 = np.ones((num_date, 2), dtype=np.float64)\n",
    "A0[:, 0] = t + 2014.05\n",
    "vel_est0, c0 = np.dot(np.linalg.pinv(A0), dis_sim)\n",
    "#vel_est0, c0 = linalg.lstsq(A0, dis_sim, cond=1e-15)[0]\n",
    "dis_est0 = (t + 2014.05) * vel_est0 + c0\n",
    "print('solution 0 with velocity: {} m/year'.format(vel_est0))"
   ]
  },
  {
   "cell_type": "code",
   "execution_count": 63,
   "metadata": {},
   "outputs": [
    {
     "name": "stdout",
     "output_type": "stream",
     "text": [
      "solution 1 with velocity: 0.10664295846696922 m/year\n"
     ]
    }
   ],
   "source": [
    "## solution 1 : di = ti * v + c [right]\n",
    "A1 = np.ones((num_date, 2), dtype=np.float32)\n",
    "A1[:, 0] = t\n",
    "vel_est1, c = np.dot(np.linalg.pinv(A1), dis_sim)\n",
    "#vel_est1, c = linalg.lstsq(A1, dis_sim, cond=1e-15)[0]\n",
    "dis_est1 = t * vel_est1 + c\n",
    "print('solution 1 with velocity: {} m/year'.format(vel_est1))"
   ]
  },
  {
   "cell_type": "code",
   "execution_count": 59,
   "metadata": {},
   "outputs": [
    {
     "name": "stdout",
     "output_type": "stream",
     "text": [
      "solution 2 with velocity: [0.14007259] m/year\n"
     ]
    }
   ],
   "source": [
    "## solution 2 : di - d1 = (ti - t1) * v [wrong]\n",
    "A2 = np.array(t, dtype=np.float32).reshape(-1, 1)\n",
    "vel_est2 = np.dot(np.linalg.pinv(A2), dis_sim)\n",
    "#vel_est2 = linalg.lstsq(A2, dis_sim, cond=1e-15)[0]\n",
    "dis_est2 = t* vel_est2\n",
    "print('solution 2 with velocity: {} m/year'.format(vel_est2))"
   ]
  },
  {
   "cell_type": "code",
   "execution_count": 60,
   "metadata": {},
   "outputs": [
    {
     "data": {
      "image/png": "[encoded data removed]",
      "text/plain": [
       "<Figure size 432x288 with 1 Axes>"
      ]
     },
     "metadata": {},
     "output_type": "display_data"
    }
   ],
   "source": [
    "plt.figure()\n",
    "plt.plot(t, dis_sim, '.', ms=16)\n",
    "plt.plot(t, dis_est1, '-',  lw=6, label='solution 1')\n",
    "plt.plot(t, dis_est2, '--', lw=3, label='solution 2')\n",
    "plt.legend()\n",
    "plt.show()"
   ]
  },
  {
   "cell_type": "code",
   "execution_count": 47,
   "metadata": {},
   "outputs": [
    {
     "data": {
      "text/plain": [
       "array([2014.05      , 2014.08285421, 2014.11570842, 2014.14856263,\n",
       "       2014.18141684, 2014.21427105, 2014.24712526, 2014.27997947,\n",
       "       2014.31283368, 2014.34568789, 2014.37854209, 2014.4113963 ,\n",
       "       2014.44425051, 2014.47710472, 2014.50995893, 2014.54281314,\n",
       "       2014.57566735, 2014.60852156, 2014.64137577, 2014.67422998,\n",
       "       2014.70708419, 2014.7399384 , 2014.77279261, 2014.80564682,\n",
       "       2014.83850103, 2014.87135524, 2014.90420945, 2014.93706366,\n",
       "       2014.96991786, 2015.00277207, 2015.03562628, 2015.06848049,\n",
       "       2015.1013347 , 2015.13418891, 2015.16704312, 2015.19989733,\n",
       "       2015.23275154, 2015.26560575, 2015.29845996, 2015.33131417,\n",
       "       2015.36416838, 2015.39702259, 2015.4298768 , 2015.46273101,\n",
       "       2015.49558522, 2015.52843943, 2015.56129363, 2015.59414784,\n",
       "       2015.62700205, 2015.65985626, 2015.69271047, 2015.72556468,\n",
       "       2015.75841889, 2015.7912731 , 2015.82412731, 2015.85698152,\n",
       "       2015.88983573, 2015.92268994, 2015.95554415, 2015.98839836,\n",
       "       2016.02125257, 2016.05410678, 2016.08696099, 2016.1198152 ,\n",
       "       2016.1526694 , 2016.18552361, 2016.21837782, 2016.25123203,\n",
       "       2016.28408624, 2016.31694045, 2016.34979466, 2016.38264887,\n",
       "       2016.41550308, 2016.44835729, 2016.4812115 , 2016.51406571,\n",
       "       2016.54691992, 2016.57977413, 2016.61262834, 2016.64548255,\n",
       "       2016.67833676, 2016.71119097, 2016.74404517, 2016.77689938,\n",
       "       2016.80975359, 2016.8426078 , 2016.87546201, 2016.90831622,\n",
       "       2016.94117043, 2016.97402464, 2017.00687885, 2017.03973306,\n",
       "       2017.07258727, 2017.10544148, 2017.13829569, 2017.1711499 ,\n",
       "       2017.20400411, 2017.23685832, 2017.26971253, 2017.30256674])"
      ]
     },
     "execution_count": 47,
     "metadata": {},
     "output_type": "execute_result"
    }
   ],
   "source": [
    "t + 2014.05"
   ]
  },
  {
   "cell_type": "code",
   "execution_count": 67,
   "metadata": {},
   "outputs": [],
   "source": [
    "from datetime import datetime as dt\n",
    "date_list = ['20141215', '20150101']\n",
    "dates = [dt.strptime(i, '%Y%m%d') for i in date_list]"
   ]
  },
  {
   "cell_type": "code",
   "execution_count": 69,
   "metadata": {},
   "outputs": [],
   "source": [
    "date_list2 = [dt.strftime(i, '%Y%m%d') for i in dates]"
   ]
  },
  {
   "cell_type": "code",
   "execution_count": 70,
   "metadata": {},
   "outputs": [
    {
     "data": {
      "text/plain": [
       "['20141215', '20150101']"
      ]
     },
     "execution_count": 70,
     "metadata": {},
     "output_type": "execute_result"
    }
   ],
   "source": [
    "date_list2"
   ]
  },
  {
   "cell_type": "code",
   "execution_count": null,
   "metadata": {
    "collapsed": true
   },
   "outputs": [],
   "source": []
  }
 ],
 "metadata": {
  "kernelspec": {
   "display_name": "Python 3",
   "language": "python",
   "name": "python3"
  },
  "language_info": {
   "codemirror_mode": {
    "name": "ipython",
    "version": 3
   },
   "file_extension": ".py",
   "mimetype": "text/x-python",
   "name": "python",
   "nbconvert_exporter": "python",
   "pygments_lexer": "ipython3",
   "version": "3.6.5"
  }
 },
 "nbformat": 4,
 "nbformat_minor": 2
}
