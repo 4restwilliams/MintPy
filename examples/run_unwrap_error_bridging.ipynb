{
 "cells": [
  {
   "cell_type": "code",
   "execution_count": 15,
   "metadata": {},
   "outputs": [
    {
     "name": "stdout",
     "output_type": "stream",
     "text": [
      "Go to directory ~/insarlab/Galapagos/GalapagosSenDT128/PYSAR\n",
      "generate_mask.py waterMask.h5 -m 0.5 -x 0 300 -y 300 700 -o maskSantiago.h5\n",
      "generate_mask.py waterMask.h5 -m 0.5 --roipoly -o maskFernandina.h5\n",
      "generate_mask.py waterMask.h5 -m 0.5 --roipoly -o maskFernandina.h5image_math.py maskSantiago.h5 '*' 2 -o maskSantiago2.h5add.py waterMask.h5 maskFernandina.h5 maskSantiago2.h5 -o maskConnComp.h5\n"
     ]
    },
    {
     "data": {
      "image/png": "[encoded data removed]",
      "text/plain": [
       "<Figure size 432x288 with 2 Axes>"
      ]
     },
     "metadata": {},
     "output_type": "display_data"
    }
   ],
   "source": [
    "## Example for runing unwrap_error_bridging.py\n",
    "## Manually Correct unwrapping errors in network of interferograms with Bridging\n",
    "\n",
    "import os\n",
    "import sys\n",
    "import matplotlib.pyplot as plt\n",
    "from pysar.utils import readfile, plot as pp\n",
    "\n",
    "work_dir = '~/insarlab/Galapagos/GalapagosSenDT128/PYSAR'\n",
    "os.chdir(os.path.expanduser(work_dir))\n",
    "print('Go to directory '+work_dir)\n",
    "\n",
    "\n",
    "##------------- Step 1. Generate Mask of Areas to be Connected ------------------##\n",
    "## Use -x/y and -m/M option to generate mask\n",
    "cmd = 'generate_mask.py waterMask.h5 -m 0.5 -x 0 300 -y 300 700 -o maskSantiago.h5'\n",
    "print(cmd)\n",
    "os.system(cmd)\n",
    "\n",
    "## Use --roipoly option to interactively select polygon mask (for complex mask generation)\n",
    "## Need to run the command in terminal for interative plotting\n",
    "cmd = 'generate_mask.py waterMask.h5 -m 0.5 --roipoly -o maskFernandina.h5'\n",
    "print(cmd)\n",
    "\n",
    "## Sum up all individual masks into one label mask file - maskConnComp.h5\n",
    "cmd += \"image_math.py maskSantiago.h5 '*' 2 -o maskSantiago2.h5\"\n",
    "cmd += \"add.py waterMask.h5 maskFernandina.h5 maskSantiago2.h5 -o maskConnComp.h5\"\n",
    "print(cmd)\n",
    "os.system(cmd)\n",
    "\n",
    "## It should looks like this\n",
    "mask, atr = readfile.read('maskConnComp.h5')\n",
    "fig, ax = plt.subplots()\n",
    "im = ax.imshow(mask)\n",
    "ax = pp.auto_flip_direction(atr, ax=ax, print_msg=False)\n",
    "fig.colorbar(im, ax=ax)\n",
    "plt.show()"
   ]
  },
  {
   "cell_type": "code",
   "execution_count": 22,
   "metadata": {},
   "outputs": [
    {
     "data": {
      "image/png": "[encoded data removed]",
      "text/plain": [
       "<Figure size 432x576 with 1 Axes>"
      ]
     },
     "metadata": {},
     "output_type": "display_data"
    }
   ],
   "source": [
    "##------------- Step 2. Select Bridging Points  ------------------##\n",
    "# plot the maskConnComp.h5 file, manually select points to connect each area one by one\n",
    "# starting from the area where the reference pixel is\n",
    "# it should looks like plot as below:\n",
    "\n",
    "import matplotlib.image as mpimg\n",
    "img = mpimg.imread('PIC/maskConnCompBridge.png')\n",
    "fig, ax = plt.subplots(figsize=[6,8])\n",
    "ax.imshow(img)\n",
    "ax.axis('off')\n",
    "plt.show()\n",
    "\n",
    "# write down the coordinates of the selected points into template file pysar.unwrapError.bridgeYX option\n",
    "# as shown in the example here: part of pysarApp_template.txt file\n",
    "\n",
    "TEMPLATE = \"\"\"## 1.4 Unwrapping Error Correction (optional)\n",
    "pysar.unwrapError.method   = bridging        #[bridging / phase_closure / no], auto for no\n",
    "pysar.unwrapError.maskFile = maskConnComp.h5 #[file name / no], auto for no\n",
    "pysar.unwrapError.ramp     = no              #[plane / quadratic], auto for plane\n",
    "pysar.unwrapError.bridgeYX = 800,1070,880,1180; 890,380,640,160   #[y1_start, x1_start, y1_end, x1_end; ...], \n",
    "\"\"\""
   ]
  },
  {
   "cell_type": "code",
   "execution_count": 23,
   "metadata": {},
   "outputs": [
    {
     "name": "stdout",
     "output_type": "stream",
     "text": [
      "unwrap_error_bridging.py INPUTS/ifgramStack.h5 -t pysarApp_template.txt\n"
     ]
    },
    {
     "data": {
      "text/plain": [
       "0"
      ]
     },
     "execution_count": 23,
     "metadata": {},
     "output_type": "execute_result"
    }
   ],
   "source": [
    "##------------- Step 3. Run unwrap_error_bridging.py  ------------------##\n",
    "cmd = 'unwrap_error_bridging.py INPUTS/ifgramStack.h5 -t pysarApp_template.txt'\n",
    "print(cmd)\n",
    "os.system(cmd)"
   ]
  },
  {
   "cell_type": "code",
   "execution_count": null,
   "metadata": {
    "collapsed": true
   },
   "outputs": [],
   "source": []
  }
 ],
 "metadata": {
  "kernelspec": {
   "display_name": "Python 3",
   "language": "python",
   "name": "python3"
  },
  "language_info": {
   "codemirror_mode": {
    "name": "ipython",
    "version": 3
   },
   "file_extension": ".py",
   "mimetype": "text/x-python",
   "name": "python",
   "nbconvert_exporter": "python",
   "pygments_lexer": "ipython3",
   "version": "3.6.4"
  }
 },
 "nbformat": 4,
 "nbformat_minor": 2
}
