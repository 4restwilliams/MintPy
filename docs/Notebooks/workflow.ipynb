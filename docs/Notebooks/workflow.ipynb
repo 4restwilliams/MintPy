{
 "cells": [
  {
   "cell_type": "markdown",
   "metadata": {},
   "source": [
    "# Workflow of InSAR time series analysis (`pysarApp.py`)\n",
    "\n",
    "We have implemented a generic routine processing workflow for InSAR time series analysis from a stack of unwrapped interferograms to displacement time-series. The workflow consists of two main blocks:   \n",
    "1. correcting unwrapping errors and inversion for the raw phase time-series (blue ovals),   \n",
    "2. correcting for noise from different sources to obtain the displacement time-series (green ovals).    \n",
    "\n",
    "It includes some optional steps, which are switched off by default (marked by dashed boundaries), here we present the workflow in its most complete form. Configuration parameters for each step are initiated with default values in a customizable text file: [pysarApp_template.txt](https://github.com/yunjunz/PySAR/blob/master/docs/pysarApp_template.txt).     \n",
    "\n",
    "<p align=\"left\">\n",
    "  <img width=\"600\" src=\"docs/figs/workflow.png\">\n",
    "</p>     "
   ]
  },
  {
   "cell_type": "markdown",
   "metadata": {},
   "source": [
    "## 1. Start point: InSAR stack (`load_data.py`)\n",
    "\n",
    "The starting point is a stack of phase-unwrapped interferograms coregistered to a common SAR acquisition, corrected for earth curvature and topography. PySAR currently supports interferogram stacks produced by ROI_PAC, ISCE and GAMMA software (Rosen et al., 2004; Rosen et al, 2012; Werner et al., 2000). Some example file/directory structures are shown below:\n",
    "\n",
    "- [ISCE/topsStack](docs/dir_isce_tops.ipynb)\n",
    "- [ISCE/stripmapStack](docs/dir_isce_stripmap.ipynb)\n",
    "- [ROI_PAC](docs/dir_roipac.ipynb)\n",
    "- [GAMMA](docs/dir_gamma.ipynb)\n",
    "\n",
    "### Example InSAR stack: [FernandinaSenD128](https://zenodo.org/record/2562349)\n",
    "\n",
    "- Sensor: Sentinel-1 A/B descending track 128<br>\n",
    "- Time: 13 Dec 2014 to 19 Jun 2018, 98 SAR acquisitions<br>\n",
    "- Processor: ISCE/topsStack (Rosen et al, 2012; Fattahi et al, 2016)<br>      \n",
    "\n",
    "Here we use a stack of interferograms from Sentinel-1 satellite acquired over Fernandina volcano, Galapagos, Ecuador as an example. We pair each SAR image with its three nearest neighbors back in time (sequential network; 288 interferograms in total); we multilook each interferogram by 15 and 5 looks in range and azimuth direction respectively, filter using a Goldstein filter with a strength of 0.2. We remove the topographic phase component using SRTM DEM (SRTMGL1, ~30m, 1 arc second with void-filled; Farr et al., 2005). The interferograms are phase-unwrapped using the minimum cost flow method (SNAPHU, Chen and Zebker, 2001)."
   ]
  },
  {
   "cell_type": "code",
   "execution_count": 2,
   "metadata": {
    "scrolled": false
   },
   "outputs": [
    {
     "name": "stdout",
     "output_type": "stream",
     "text": [
      "Go to work directory: /Users/yunjunz/Work\n",
      "Go to project directory: /Users/yunjunz/Work/FernandinaSenDT128/PYSAR\n"
     ]
    }
   ],
   "source": [
    "import os\n",
    "work_dir = os.path.expanduser('~/Work')\n",
    "if not os.path.isdir(work_dir):\n",
    "    os.makedirs(work_dir)\n",
    "    print('Create directory: {}'.format(work_dir))\n",
    "os.chdir(work_dir)\n",
    "print('Go to work directory: {}'.format(work_dir))\n",
    "\n",
    "if not os.path.isfile('FernandinaSenDT128.tar.xz'):\n",
    "    !wget https://zenodo.org/record/2562349/files/FernandinaSenDT128.tar.xz\n",
    "    !tar -xvJf FernandinaSenDT128.tar.xz\n",
    "proj_dir = os.path.join(work_dir, 'FernandinaSenDT128/PYSAR')\n",
    "os.chdir(proj_dir)\n",
    "print('Go to project directory: {}'.format(proj_dir))"
   ]
  },
  {
   "cell_type": "code",
   "execution_count": 7,
   "metadata": {
    "scrolled": false
   },
   "outputs": [
    {
     "name": "stdout",
     "output_type": "stream",
     "text": [
      "\n",
      "_________________________________________________\n",
      "       ____             __     __     ____  \n",
      "       /    )         /    )   / |    /    )\n",
      "------/____/----------\\-------/__|---/___ /------\n",
      "     /        /   /    \\     /   |  /    |  \n",
      "____/________(___/_(____/___/____|_/_____|_______\n",
      "                /                           \n",
      "            (_ /                            \n",
      "\n",
      " A Python package for InSAR time series analysis.\n",
      "           PySAR v1.0.0-dev, 2019-01-24\n",
      "_________________________________________________\n",
      "\n",
      "Project name: FernandinaSenDT128\n",
      "Go to work directory: /Users/yunjunz/Work/FernandinaSenDT128/PYSAR\n",
      "\n",
      "**********  Read Template File  **********\n",
      "latest template file detected: /Users/yunjunz/Work/FernandinaSenDT128/PYSAR/pysarApp_template.txt\n",
      "['/Users/yunjunz/Work/FernandinaSenDT128/PYSAR/INPUTS/FernandinaSenDT128.txt'] exists and is newer than ['/Users/yunjunz/Work/FernandinaSenDT128/PYSAR/FernandinaSenDT128.txt'], skip updating.\n",
      "read custom template file: /Users/yunjunz/Work/FernandinaSenDT128/PYSAR/FernandinaSenDT128.txt\n",
      "update default template based on input custom template\n",
      "No new option value found, skip updating /Users/yunjunz/Work/FernandinaSenDT128/PYSAR/pysarApp_template.txt\n",
      "Exit as planned after template file generation.\n",
      "platform : Sen\n",
      "processor: isce\n",
      "--------------------------------------------------\n",
      "prepare metadata files for isce products for PySAR\n",
      "prep_isce.py -i ../ISCE/merged/interferograms -m ../ISCE/master/IW1.xml -b ../ISCE/baselines -g ../ISCE/merged/geom_master\n",
      "['../ISCE/master/data.rsc'] exists and is newer than ['../ISCE/master/IW1.xml'], skip updating.\n",
      "prepare .rsc file for geometry files\n",
      "read perp baseline time-series from ../ISCE/baselines\n",
      "prepare .rsc file for  filt_*.unw\n",
      "prepare .rsc file for  filt_*.cor\n",
      "Done.\n",
      "--------------------------------------------------\n",
      "searching interferometric pairs info\n",
      "input data files:\n",
      "unwrapPhase     : ../ISCE/merged/interferograms/*/filt_*.unw\n",
      "coherence       : ../ISCE/merged/interferograms/*/filt_*.cor\n",
      "connectComponent: ../ISCE/merged/interferograms/*/filt_*.unw.conncomp\n",
      "number of files per type: 288\n",
      "--------------------------------------------------\n",
      "searching geometry files info\n",
      "input data files:\n",
      "height          : ../ISCE/merged/geom_master/hgt.rdr\n",
      "latitude        : ../ISCE/merged/geom_master/lat.rdr\n",
      "longitude       : ../ISCE/merged/geom_master/lon.rdr\n",
      "incidenceAngle  : ../ISCE/merged/geom_master/los.rdr\n",
      "azimuthAngle    : ../ISCE/merged/geom_master/los.rdr\n",
      "shadowMask      : ../ISCE/merged/geom_master/shadowMask.rdr\n",
      "--------------------------------------------------\n",
      "updateMode : True\n",
      "compression: None\n",
      "All date12   exists in file /Users/yunjunz/Work/FernandinaSenDT128/PYSAR/INPUTS/ifgramStack.h5 with same size as required, no need to re-load.\n",
      "All datasets exists in file /Users/yunjunz/Work/FernandinaSenDT128/PYSAR/INPUTS/geometryRadar.h5 with same size as required, no need to re-load.\n"
     ]
    }
   ],
   "source": [
    "!pysarApp.py FernandinaSenDT128.txt -g                                 #short custom template -> full default template\n",
    "!load_data.py -t pysarApp_template.txt --project FernandinaSenDT128    #load binary files to HDF5 files"
   ]
  },
  {
   "cell_type": "code",
   "execution_count": 12,
   "metadata": {},
   "outputs": [
    {
     "name": "stdout",
     "output_type": "stream",
     "text": [
      "total 1643440\n",
      "-rw-r--r--  1 yunjunz  staff  109292360 Feb  5 21:54 ECMWF.h5\n",
      "-rw-r--r--  1 yunjunz  staff       1872 Feb  5 22:13 FernandinaSenDT128.txt\n",
      "-rw-r--r--  1 yunjunz  staff    2808168 Feb 12 00:06 geometryRadar.h5\n",
      "-rw-r--r--  1 yunjunz  staff  729332240 Feb 12 00:06 ifgramStack.h5\n",
      "******************** Basic File Info ************************\n",
      "file name: /Users/yunjunz/Work/FernandinaSenDT128/PYSAR/INPUTS/ifgramStack.h5\n",
      "file type: ifgramStack\n",
      "coordinates : RADAR\n",
      "\n",
      "******************** HDF5 File Structure ********************\n",
      "Attributes in / level:\n",
      "  ALOOKS                   1\n",
      "  ANTENNA_SIDE             -1\n",
      "  AZIMUTH_PIXEL_SIZE       15.616425207715931\n",
      "  CENTER_LINE_UTC          42584.0\n",
      "  DATA_TYPE                FLOAT\n",
      "  DATE12                   141213-141225\n",
      "  EARTH_RADIUS             6337286.638938101\n",
      "  FILE_LENGTH              450\n",
      "  FILE_PATH                /Users/yunjunz/Work/FernandinaSenDT128/ISCE/merged/interferograms/20141213_20141225/filt_fine.unw\n",
      "  FILE_TYPE                ifgramStack\n",
      "  HEADING                  53.4583740234375\n",
      "  HEIGHT                   698834.2261352595\n",
      "  LAT_REF1                 -0.27142282744993307\n",
      "  LAT_REF2                 -0.2052012679974385\n",
      "  LAT_REF3                 -0.548154094069745\n",
      "  LAT_REF4                 -0.4814968797610026\n",
      "  LENGTH                   450\n",
      "  LON_REF1                 -91.33901754364975\n",
      "  LON_REF2                 -91.64656503719202\n",
      "  LON_REF3                 -91.3957677459888\n",
      "  LON_REF4                 -91.70482299943559\n",
      "  ORBIT_DIRECTION          DESCENDING\n",
      "  PLATFORM                 Sen\n",
      "  POLARIZATION             VV\n",
      "  PRF                      1717.128973878037\n",
      "  PROCESSOR                isce\n",
      "  PROJECT_NAME             FernandinaSenDT128\n",
      "  P_BASELINE_BOTTOM_HDR    62.83694407961866\n",
      "  P_BASELINE_TOP_HDR       62.83694407961866\n",
      "  RANGE_PIXEL_SIZE         2.329562114715323\n",
      "  RLOOKS                   1\n",
      "  STARTING_RANGE           799547.2189154713\n",
      "  UNIT                     radian\n",
      "  WAVELENGTH               0.05546576\n",
      "  WIDTH                    600\n",
      "  access_mode              READ\n",
      "  altitude                 698834.2261352595\n",
      "  azimuthPixelSize         15.616425207715931\n",
      "  beam_mode                IW\n",
      "  beam_swath               12\n",
      "  byte_order               l\n",
      "  data_type                FLOAT\n",
      "  earthRadius              6337286.638938101\n",
      "  family                   image\n",
      "  file_name                /Users/yunjunz/insarlab/test/FernandinaSenDT128/ISCE/merged/interferograms/20141213_20141225/filt_fine.unw\n",
      "  firstFrameNumber         593\n",
      "  first_frame              593\n",
      "  lastFrameNumber          597\n",
      "  last_frame               597\n",
      "  length                   450\n",
      "  name                     image_name\n",
      "  number_bands             2\n",
      "  orbitNumber              3700\n",
      "  passDirection            DESCENDING\n",
      "  polarization             VV\n",
      "  prf                      1717.128973878037\n",
      "  radarWavelength          0.05546576\n",
      "  rangePixelSize           2.329562114715323\n",
      "  relative_orbit           128\n",
      "  satelliteSpeed           7597.177079370654\n",
      "  scheme                   BIL\n",
      "  startUTC                 2014-12-13 11:49:44.367659\n",
      "  startingRange            799547.2189154713\n",
      "  stopUTC                  2014-12-13 11:50:07.299273\n",
      "  swathNumber              12\n",
      "  trackNumber              128\n",
      "  width                    600\n",
      "  xmax                     1670.0\n",
      "  xmin                     1070.0\n",
      "\n",
      "HDF5 dataset \"/bperp               \": shape (288,)              , dtype <float32>\n",
      "HDF5 dataset \"/coherence           \": shape (288, 450, 600)     , dtype <float32>\n",
      "  MODIFICATION_TIME    1549947964.381114\n",
      "\n",
      "HDF5 dataset \"/connectComponent    \": shape (288, 450, 600)     , dtype <bool>\n",
      "  MODIFICATION_TIME    1549947965.7126982\n",
      "\n",
      "HDF5 dataset \"/date                \": shape (288, 2)            , dtype <|S8>\n",
      "HDF5 dataset \"/dropIfgram          \": shape (288,)              , dtype <bool>\n",
      "HDF5 dataset \"/unwrapPhase         \": shape (288, 450, 600)     , dtype <float32>\n",
      "  MODIFICATION_TIME    1549947957.303016\n",
      "\n",
      "\n"
     ]
    }
   ],
   "source": [
    "!ls -l INPUTS                      #check loaded files in PYSAR/INPUTS directory\n",
    "!info.py INPUTS/ifgramStack.h5     #use info.py / gdalinfo to check the HDF5 file information"
   ]
  },
  {
   "cell_type": "markdown",
   "metadata": {},
   "source": [
    "### 1.1 Select reference point (`reference_point.py`)\n",
    "\n",
    "\n"
   ]
  },
  {
   "cell_type": "markdown",
   "metadata": {},
   "source": []
  },
  {
   "cell_type": "code",
   "execution_count": null,
   "metadata": {},
   "outputs": [],
   "source": []
  }
 ],
 "metadata": {
  "kernelspec": {
   "display_name": "Python 3",
   "language": "python",
   "name": "python3"
  },
  "language_info": {
   "codemirror_mode": {
    "name": "ipython",
    "version": 3
   },
   "file_extension": ".py",
   "mimetype": "text/x-python",
   "name": "python",
   "nbconvert_exporter": "python",
   "pygments_lexer": "ipython3",
   "version": "3.6.8"
  }
 },
 "nbformat": 4,
 "nbformat_minor": 2
}
