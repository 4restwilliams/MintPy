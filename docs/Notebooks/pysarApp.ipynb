{
 "cells": [
  {
   "cell_type": "markdown",
   "metadata": {},
   "source": [
    "# Small baseline InSAR time series analysis\n",
    "\n",
    "There are two groups of InSAR time series techniques: persistent scatterer (PS) methods, which focus on the phase-stable point scatterers, and distributed scatterer (DS) methods, which relaxed the strict limit on the phase stability and included areas that are affected by decorrelation through the exploitation of the redundant network of interferograms. In this notebook we focus on the DS method, and more specifically, the DS method with the network of small baseline interferograms (SBAS) using pysarApp.py\n",
    "\n",
    "The detailed algorithms and mathematical formulations implemented in PySAR software can be found in the literature below: Yunjun, Z., H. Fattahi, F. Amelung (2019), InSAR time series analysis: error correction and noise reduction, _Remote Sensing of Environment_ (under review).      "
   ]
  },
  {
   "cell_type": "markdown",
   "metadata": {},
   "source": [
    "# pysarApp (general overview)\n",
    "\n",
    "pysarApp.py is a PySAR script for the routine processing workflow of InSAR time series analysis. The script takes a stack of coregistered and unwrapped interferograms and generates the displacement time-series. The workflow consists of two main blocks:   \n",
    "+ correcting unwrapping errors and inverting for the raw phase time-series (blue ovals),   \n",
    "+ correcting for noise from different sources to obtain the displacement time-series (green ovals).    \n",
    "\n",
    "These blocks can be further devided into the following more details steps: `loadData, refPoint, stacking, unwCor, netModify, netInversion, LOD, tropo, deramp, topo, residRms, refDate, ts2vel, geocode, googleEarth, hdfeos5`.    \n",
    "     \n",
    "Some steps are optional, which are switched off by default (marked by dashed boundaries). Configuration parameters for each step are initiated with default values in a customizable text file: [pysarApp_template.txt](https://github.com/yunjunz/PySAR/blob/master/pysar/defaults/pysarApp_template.txt). In this notebook, we will walk through the various steps.      \n",
    "     \n",
    "<p align=\"left\">\n",
    "  <img width=\"600\" src=\"docs/images/pysarApp_workflow.png\">\n",
    "</p>     \n",
    "<p style=\"text-align: center;\">\n",
    "    (Figure from Yunjun et al., 2019)\n",
    "</p>"
   ]
  },
  {
   "cell_type": "markdown",
   "metadata": {},
   "source": [
    "## 0. Initial setup of the notebook\n",
    "\n",
    "The input is a stack of **phase-unwrapped** interferograms **coregistered to a common SAR acquisition**, corrected for earth curvature and topography, which are referred hereafter as a **InSAR stack**. PySAR currently supports InSAR stacks produced by ROI_PAC, ISCE and GAMMA software (Rosen et al., 2004; Rosen et al, 2012; Werner et al., 2000). Some example file/directory structures are shown through the links below:\n",
    "\n",
    "- [ISCE/topsStack](docs/dir_isce_tops.ipynb)\n",
    "- [ISCE/stripmapStack](docs/dir_isce_stripmap.ipynb)\n",
    "- [GAMMA](docs/dir_gamma.ipynb)\n",
    "- [ROI_PAC](docs/dir_roipac.ipynb)\n",
    "\n",
    "### Example dataset\n",
    "Here we use the InSAR stack from Sentinel-1 satellite descending track 128 acquired over Fernandina volcano, Galapagos, Ecuador as an example ([Go to Zenodo for preview](https://zenodo.org/record/2571980); ~750M in size). It spans from 2014-12-13 to 2018-06-19 with 98 acquisitions in total. We use the stack Sentinel processor (Fattahi et al., 2016) within ISCE (Rosen et al., 2012) for processing the InSAR stack.     \n",
    "\n",
    "<p align=\"left\">\n",
    "  <img src=\"docs/images/unwrapPhase_wrap.png\">\n",
    "</p>     \n",
    "\n",
    "The cell below performs the intial setup of the notebook and must be run every time the notebook is used. It defines the processing location and check the example dataset. It is possible to partially complete the exercise, close the notebook, and come back and continue later from that point, but this initialization must be re-run. "
   ]
  },
  {
   "cell_type": "code",
   "execution_count": 1,
   "metadata": {
    "scrolled": false
   },
   "outputs": [
    {
     "name": "stdout",
     "output_type": "stream",
     "text": [
      "Go to work directory: /Users/yunjunz/work\n",
      "FernandinaSenDT128.tar.xz exists.\n",
      "Go to project directory: /Users/yunjunz/work/FernandinaSenDT128/PYSAR\n"
     ]
    }
   ],
   "source": [
    "import os\n",
    "\n",
    "# define the work directory\n",
    "work_dir = os.path.expanduser('~/work')\n",
    "if not os.path.isdir(work_dir):\n",
    "    os.makedirs(work_dir)\n",
    "    print('Create directory: {}'.format(work_dir))\n",
    "os.chdir(work_dir)\n",
    "print('Go to work directory: {}'.format(work_dir))\n",
    "\n",
    "# download the example dataset\n",
    "tar_file = 'FernandinaSenDT128.tar.xz'\n",
    "if not os.path.isfile(tar_file):\n",
    "    !wget https://zenodo.org/record/2571980/files/FernandinaSenDT128.tar.xz\n",
    "    !tar -xvJf FernandinaSenDT128.tar.xz\n",
    "else:\n",
    "    print('{} exists.'.format(tar_file))\n",
    "\n",
    "# go to the PYSAR directory\n",
    "proj_dir = os.path.join(work_dir, 'FernandinaSenDT128/PYSAR')\n",
    "os.chdir(proj_dir)\n",
    "print('Go to project directory: {}'.format(proj_dir))"
   ]
  },
  {
   "cell_type": "markdown",
   "metadata": {},
   "source": [
    "## 1. Setting up template file for processing with pysarApp\n",
    "\n",
    "The configuration parameters to pysarApp.py are controlled through two template files. At least one template is required to run pysarApp.py.    \n",
    "\n",
    "+ `default template`: [pysarApp_template.txt](https://github.com/yunjunz/PySAR/blob/master/pysar/defaults/pysarApp_template.txt). It contains all configuration parameters, grouped by steps, with default _auto_ values (which are defined in [pysarApp.cfg](https://github.com/yunjunz/PySAR/blob/master/pysar/defaults/pysarApp.cfg)). This file is read every time pysarApp.py runs.      \n",
    "      \n",
    "      \n",
    "+ `custom template` (optional but recommended): FernandinaSenDT128.txt in the example dataset. It constains selective, manually modified configuration parameters. The custome template file name is arbitrary. Custom template has higher priority than the default template; if custom template is input, pysarApp.py will update the default pysarApp_template.txt file accordingly.       "
   ]
  },
  {
   "cell_type": "markdown",
   "metadata": {},
   "source": [
    "### 1.1 [Custom template example](https://github.com/yunjunz/PySAR/tree/master/examples/input_files)\n",
    "\n",
    "The path of all input files (`pysar.load.*`) and the reference point (`pysar.reference.*`) are always recommended. Below are from FernandinaSenDT128.txt file: \n",
    "\n",
    "```cfg\n",
    "########## 1. Load Data (--load to exit after this step)\n",
    "## load_data.py -H to check more details and example inputs.\n",
    "pysar.load.processor        = isce\n",
    "##---------for ISCE only:\n",
    "pysar.load.metaFile         = ../ISCE/master/IW*.xml\n",
    "pysar.load.baselineDir      = ../ISCE/baselines\n",
    "##---------interferogram datasets:\n",
    "pysar.load.unwFile          = ../ISCE/merged/interferograms/*/filt_*.unw\n",
    "pysar.load.corFile          = ../ISCE/merged/interferograms/*/filt_*.cor\n",
    "pysar.load.connCompFile     = ../ISCE/merged/interferograms/*/filt_*.unw.conncomp\n",
    "##---------geometry datasets:\n",
    "pysar.load.demFile          = ../ISCE/merged/geom_master/hgt.rdr\n",
    "pysar.load.lookupYFile      = ../ISCE/merged/geom_master/lat.rdr\n",
    "pysar.load.lookupXFile      = ../ISCE/merged/geom_master/lon.rdr\n",
    "pysar.load.incAngleFile     = ../ISCE/merged/geom_master/los.rdr\n",
    "pysar.load.azAngleFile      = ../ISCE/merged/geom_master/los.rdr\n",
    "pysar.load.shadowMaskFile   = ../ISCE/merged/geom_master/shadowMask.rdr\n",
    "\n",
    "pysar.reference.lalo                = -0.30,-91.43\n",
    "pysar.troposphericDelay.weatherDir  = ~/insarlab/WEATHER\n",
    "pysar.deramp                        = linear\n",
    "```"
   ]
  },
  {
   "cell_type": "markdown",
   "metadata": {},
   "source": [
    "### 1.2 Examples input file paths (using `load_data.py -H`)"
   ]
  },
  {
   "cell_type": "code",
   "execution_count": 7,
   "metadata": {},
   "outputs": [
    {
     "name": "stdout",
     "output_type": "stream",
     "text": [
      "template:\r\n",
      "########## 1. Load Data (--load to exit after this step)\r\n",
      "##----------Default file path of ISCE-topsStack products\r\n",
      "pysar.load.processor      = isce\r\n",
      "pysar.load.metaFile       = ${PROJECT_DIR}/master/IW*.xml\r\n",
      "pysar.load.baselineDir    = ${PROJECT_DIR}/baselines\r\n",
      "\r\n",
      "pysar.load.unwFile        = ${PROJECT_DIR}/merged/interferograms/*/filt*.unw\r\n",
      "pysar.load.corFile        = ${PROJECT_DIR}/merged/interferograms/*/filt*.cor\r\n",
      "pysar.load.connCompFile   = ${PROJECT_DIR}/merged/interferograms/*/filt*.unw.conncomp\r\n",
      "pysar.load.ionoFile       = None\r\n",
      "pysar.load.intFile        = None\r\n",
      "\r\n",
      "pysar.load.demFile        = ${PROJECT_DIR}/merged/geom_master/hgt.rdr\r\n",
      "pysar.load.lookupYFile    = ${PROJECT_DIR}/merged/geom_master/lat.rdr\r\n",
      "pysar.load.lookupXFile    = ${PROJECT_DIR}/merged/geom_master/lon.rdr\r\n",
      "pysar.load.incAngleFile   = ${PROJECT_DIR}/merged/geom_master/los.rdr\r\n",
      "pysar.load.azAngleFile    = ${PROJECT_DIR}/merged/geom_master/los.rdr\r\n",
      "pysar.load.shadowMaskFile = ${PROJECT_DIR}/merged/geom_master/shadowMask.rdr\r\n",
      "pysar.load.bperpFile      = None\r\n",
      "\r\n",
      "\r\n",
      "##----------Default file path of ROI_PAC products\r\n",
      "pysar.load.processor      = roipac\r\n",
      "pysar.load.unwFile        = ${PROJECT_DIR}/PROCESS/DONE/IFG*/filt*.unw\r\n",
      "pysar.load.corFile        = ${PROJECT_DIR}/PROCESS/DONE/IFG*/filt*.cor\r\n",
      "pysar.load.connCompFile   = ${PROJECT_DIR}/PROCESS/DONE/IFG*/filt*snap_connect.byt\r\n",
      "pysar.load.intFile        = None\r\n",
      "\r\n",
      "pysar.load.demFile        = ${PROJECT_DIR}/PROCESS/DONE/*${m_date12}*/radar_*rlks.hgt\r\n",
      "pysar.load.lookupYFile    = ${PROJECT_DIR}/PROCESS/GEO/geo_${m_date12}/geomap_*rlks.trans\r\n",
      "pysar.load.lookupXFile    = ${PROJECT_DIR}/PROCESS/GEO/geo_${m_date12}/geomap_*rlks.trans\r\n",
      "pysar.load.incAngleFile   = None\r\n",
      "pysar.load.azAngleFile    = None\r\n",
      "pysar.load.shadowMaskFile = None\r\n",
      "pysar.load.bperpFile      = None\r\n",
      "\r\n",
      "\r\n",
      "##----------Default file path of GAMMA products\r\n",
      "pysar.load.processor      = gamma\r\n",
      "pysar.load.unwFile        = ${PROJECT_DIR}/PROCESS/DONE/IFG*/diff*rlks.unw\r\n",
      "pysar.load.corFile        = ${PROJECT_DIR}/PROCESS/DONE/IFG*/*filt*rlks.cor\r\n",
      "pysar.load.connCompFile   = None\r\n",
      "pysar.load.intFile        = None\r\n",
      "\r\n",
      "pysar.load.demFile        = ${PROJECT_DIR}/PROCESS/SIM/sim_${m_date12}/sim*rlks.rdc.dem\r\n",
      "pysar.load.lookupYFile    = ${PROJECT_DIR}/PROCESS/SIM/sim_${m_date12}/sim*rlks.UTM_TO_RDC\r\n",
      "pysar.load.lookupXFile    = ${PROJECT_DIR}/PROCESS/SIM/sim_${m_date12}/sim*rlks.UTM_TO_RDC\r\n",
      "pysar.load.incAngleFile   = None\r\n",
      "pysar.load.azAngleFile    = None\r\n",
      "pysar.load.shadowMaskFile = None\r\n",
      "pysar.load.bperpFile      = ${PROJECT_DIR}/merged/baselines/*/*.base_perp\r\n",
      "\r\n",
      "\r\n",
      "\r\n"
     ]
    }
   ],
   "source": [
    "!load_data.py -H"
   ]
  },
  {
   "cell_type": "markdown",
   "metadata": {},
   "source": [
    "## 2. pysarApp.py processing steps\n",
    "\n",
    "The pysarApp.py workflow can be called with a single command-line call; by default it will run all the required processing steps with options pulled from the template files. However, in this notebook, we will use the \"step\" processing, this allows you to re-start the processing from a given step. More detailed usage can be found in help. "
   ]
  },
  {
   "cell_type": "code",
   "execution_count": 6,
   "metadata": {
    "scrolled": false
   },
   "outputs": [
    {
     "name": "stdout",
     "output_type": "stream",
     "text": [
      "usage: pysarApp.py [-h] [--dir WORKDIR] [-g] [-H] [-v] [--start STEP] [--end STEP] [--dostep STEP]\r\n",
      "                   [customTemplateFile]\r\n",
      "\r\n",
      "PySAR Routine Time Series Analysis\r\n",
      "\r\n",
      "positional arguments:\r\n",
      "  customTemplateFile  custom template with option settings.\r\n",
      "                      Ignored if the default pysarApp_template.txt is input.\r\n",
      "\r\n",
      "optional arguments:\r\n",
      "  -h, --help          show this help message and exit\r\n",
      "  --dir WORKDIR       Working directory, default:\r\n",
      "                      a) current directory, OR\r\n",
      "                      b) $SCRATCHDIR/projectName/PYSAR, if:\r\n",
      "                          1) autoPath == True in $PYSAR_HOME/pysar/defaults/auto_path.py AND\r\n",
      "                          2) environment variable $SCRATCHDIR exists AND\r\n",
      "                          3) customTemplateFile is specified (projectName.*)\r\n",
      "  -g                  Generate default template (if it does not exist).\r\n",
      "  -H                  Print/Show the default template file for details parameter setup.\r\n",
      "  -v, --version       print software version\r\n",
      "\r\n",
      "steps processing (start/end/dostep):\r\n",
      "  Command line options for steps processing with names are chosen from the following list:\r\n",
      "  \r\n",
      "  ['loadData', 'refPoint', 'stacking', 'unwCor', 'netModify', 'netInversion']\r\n",
      "  ['LOD', 'tropo', 'deramp', 'topo', 'residRms', 'refDate']\r\n",
      "  ['ts2vel', 'geocode', 'googleEarth', 'hdfeos5']\r\n",
      "  \r\n",
      "  In order to use either --start or --dostep, it is necessary that a\r\n",
      "  previous run was done using one of the steps options to process at least\r\n",
      "  through the step immediately preceding the starting step of the current run.\r\n",
      "\r\n",
      "  --start STEP        Start processing at the named step, default: loadData\r\n",
      "  --end STEP          End processing at the named step, default: hdfeos5\r\n",
      "  --dostep STEP       Run processing at the named step only\r\n",
      "\r\n",
      "reference:\r\n",
      "  Yunjun, Z., H. Fattahi, F. Amelung (2019), InSAR time series analysis: error\r\n",
      "  correction and noise reduction (under review).\r\n",
      "\r\n",
      "example:\r\n",
      "  pysarApp.py                         #Run with default template 'pysarApp_template.txt'\r\n",
      "  pysarApp.py <custom_template_file>  #Run with default and custom templates\r\n",
      "  pysarApp.py -h / --help             #Help\r\n",
      "  pysarApp.py -g                      #Generate default template (if it does not exist)\r\n",
      "  pysarApp.py -H                      #Print    default template options\r\n",
      "\r\n",
      "  # Run with --start/stop/dostep options\r\n",
      "  pysarApp.py GalapagosSenDT128.template --dostep ts2vel   #Run at step 'ts2vel' only\r\n",
      "  pysarApp.py GalapagosSenDT128.template --stop loadData   #End after step 'loadData'\r\n"
     ]
    }
   ],
   "source": [
    "!pysarApp.py --help"
   ]
  },
  {
   "cell_type": "markdown",
   "metadata": {},
   "source": [
    "### 2.1 Load the InSAR stack\n",
    "\n",
    "This step prepares the required metadata (using prep_isce/gamma/roipac.py commands internally) and load all data files and their metadata into HDF5 files in the **./INPUTS** folder.\n",
    "\n",
    "The corresponding template options are:\n",
    "```cfg\n",
    "########## 1. Load Data (--load to exit after this step)\n",
    "## auto - automatic path pattern for Univ of Miami file structure\n",
    "## load_data.py -H to check more details and example inputs.\n",
    "## compression to save disk usage for ifgramStack.h5 file:\n",
    "## no   - save   0% disk usage, fast [default]\n",
    "## lzf  - save ~57% disk usage, relative slow\n",
    "## gzip - save ~62% disk usage, very slow [not recommend]\n",
    "pysar.load.processor      = isce  #[isce,roipac,gamma,], auto for isce\n",
    "pysar.load.updateMode     = auto  #[yes / no], auto for yes, skip re-loading if HDF5 files are complete\n",
    "pysar.load.compression    = auto  #[gzip / lzf / no], auto for no.\n",
    "##---------for ISCE only:\n",
    "pysar.load.metaFile       = ../ISCE/master/IW*.xml  #[path2metadata_file], i.e.: ./master/IW1.xml, ./masterShelve/data.d\n",
    "pysar.load.baselineDir    = ../ISCE/baselines  #[path2baseline_dir], i.e.: ./baselines\n",
    "##---------interferogram datasets:\n",
    "pysar.load.unwFile        = ../ISCE/merged/interferograms/*/filt_*.unw  #[path2unw_file]\n",
    "pysar.load.corFile        = ../ISCE/merged/interferograms/*/filt_*.cor  #[path2cor_file]\n",
    "pysar.load.connCompFile   = ../ISCE/merged/interferograms/*/filt_*.unw.conncomp  #[path2conn_file]\n",
    "pysar.load.intFile        = auto  #[path2int_file]\n",
    "pysar.load.ionoFile       = auto  #[path2iono_file]\n",
    "##---------geometry datasets:\n",
    "pysar.load.demFile        = ../ISCE/merged/geom_master/hgt.rdr  #[path2hgt_file]\n",
    "pysar.load.lookupYFile    = ../ISCE/merged/geom_master/lat.rdr  #[path2lat_file]]\n",
    "pysar.load.lookupXFile    = ../ISCE/merged/geom_master/lon.rdr  #[path2lon_file]\n",
    "pysar.load.incAngleFile   = ../ISCE/merged/geom_master/los.rdr  #[path2los_file]\n",
    "pysar.load.azAngleFile    = ../ISCE/merged/geom_master/los.rdr  #[path2los_file]\n",
    "pysar.load.shadowMaskFile = ../ISCE/merged/geom_master/shadowMask.rdr  #[path2shadow_file]\n",
    "pysar.load.bperpFile      = auto  #[path2bperp_file]\n",
    "##---------subset (optional):\n",
    "## if both yx and lalo are specified, use lalo option unless a) no lookup file AND b) dataset is in radar coord\n",
    "pysar.subset.yx     = auto    #[1800:2000,700:800 / no], auto for no\n",
    "pysar.subset.lalo   = auto    #[31.5:32.5,130.5:131.0 / no], auto for no\n",
    "```"
   ]
  },
  {
   "cell_type": "code",
   "execution_count": 9,
   "metadata": {
    "scrolled": false
   },
   "outputs": [
    {
     "name": "stdout",
     "output_type": "stream",
     "text": [
      "PySAR version 1.0.0-dev, release date 2019-02-26\n",
      "Run routine processing with pysarApp.py on steps: ['loadData']\n",
      "Remaining steps: ['refPoint', 'stacking', 'unwCor', 'netModify', 'netInversion', 'LOD', 'tropo', 'deramp', 'topo', 'residRms', 'refDate', 'ts2vel', 'geocode', 'googleEarth', 'hdfeos5']\n",
      "--------------------------------------------------\n",
      "Project name: FernandinaSenDT128\n",
      "Go to work directory: /Users/yunjunz/work/FernandinaSenDT128/PYSAR\n",
      "['/Users/yunjunz/work/FernandinaSenDT128/PYSAR/INPUTS/FernandinaSenDT128.txt'] exists and is newer than ['FernandinaSenDT128.txt'], skip updating.\n",
      "read custom template file: FernandinaSenDT128.txt\n",
      "update default template based on input custom template\n",
      "No new option value found, skip updating /Users/yunjunz/work/FernandinaSenDT128/PYSAR/pysarApp_template.txt\n",
      "read default template file: /Users/yunjunz/work/FernandinaSenDT128/PYSAR/pysarApp_template.txt\n",
      "\n",
      "******************** step - loadData ********************\n",
      "load_data.py --template /Users/yunjunz/work/FernandinaSenDT128/PYSAR/pysarApp_template.txt FernandinaSenDT128.txt --project FernandinaSenDT128\n",
      "platform : Sen\n",
      "processor: isce\n",
      "--------------------------------------------------\n",
      "prepare metadata files for isce products for PySAR\n",
      "prep_isce.py -i ../ISCE/merged/interferograms -m ../ISCE/master/IW1.xml -b ../ISCE/baselines -g ../ISCE/merged/geom_master\n",
      "['../ISCE/master/data.rsc'] exists and is newer than ['../ISCE/master/IW1.xml'], skip updating.\n",
      "prepare .rsc file for geometry files\n",
      "read perp baseline time-series from ../ISCE/baselines\n",
      "prepare .rsc file for  filt_*.unw\n",
      "prepare .rsc file for  filt_*.cor\n",
      "Done.\n",
      "--------------------------------------------------\n",
      "searching interferometric pairs info\n",
      "input data files:\n",
      "unwrapPhase     : ../ISCE/merged/interferograms/*/filt_*.unw\n",
      "coherence       : ../ISCE/merged/interferograms/*/filt_*.cor\n",
      "connectComponent: ../ISCE/merged/interferograms/*/filt_*.unw.conncomp\n",
      "number of files per type: 288\n",
      "--------------------------------------------------\n",
      "searching geometry files info\n",
      "input data files:\n",
      "height          : ../ISCE/merged/geom_master/hgt.rdr\n",
      "latitude        : ../ISCE/merged/geom_master/lat.rdr\n",
      "longitude       : ../ISCE/merged/geom_master/lon.rdr\n",
      "incidenceAngle  : ../ISCE/merged/geom_master/los.rdr\n",
      "azimuthAngle    : ../ISCE/merged/geom_master/los.rdr\n",
      "shadowMask      : ../ISCE/merged/geom_master/shadowMask.rdr\n",
      "--------------------------------------------------\n",
      "updateMode : True\n",
      "compression: None\n",
      "All date12   exists in file /Users/yunjunz/work/FernandinaSenDT128/PYSAR/INPUTS/ifgramStack.h5 with same size as required, no need to re-load.\n",
      "All datasets exists in file /Users/yunjunz/work/FernandinaSenDT128/PYSAR/INPUTS/geometryRadar.h5 with same size as required, no need to re-load.\n",
      "Loaded dataset are processed by InSAR software: isce\n",
      "Loaded dataset is in RADAR coordinates\n",
      "Interferograms Stack: /Users/yunjunz/work/FernandinaSenDT128/PYSAR/INPUTS/ifgramStack.h5\n",
      "Geometry File       : /Users/yunjunz/work/FernandinaSenDT128/PYSAR/INPUTS/geometryRadar.h5\n",
      "Lookup Table File   : /Users/yunjunz/work/FernandinaSenDT128/PYSAR/INPUTS/geometryRadar.h5\n",
      "--------------------------------------------------\n",
      "All data needed found/loaded/copied. Processed 2-pass InSAR data can be removed.\n",
      "--------------------------------------------------\n",
      "updating ifgramStack.h5 metadata based on custom template file: FernandinaSenDT128.txt\n",
      "All updated (removed) attributes already exists (do not exists) and have the same value, skip update.\n",
      "\n",
      "******************** plot / save to PIC ********************\n",
      "./plot_pysarApp.sh\n",
      "touch log file: plot_pysarApp.log\n",
      "Move *.png *.pdf into ./PIC folder\n",
      "mv: rename *.png to PIC/*.png: No such file or directory\n",
      "mv: rename *.pdf to PIC/*.pdf: No such file or directory\n",
      "mv: rename *.kmz to PIC/*.kmz: No such file or directory\n",
      "Go back to directory: /Users/yunjunz/work/FernandinaSenDT128/PYSAR\n",
      "\n",
      "################################################\n",
      "Normal end of PySAR routine processing workflow!\n",
      "################################################\n",
      "\n",
      "Total time: 00 mins 10.8 secs\n"
     ]
    }
   ],
   "source": [
    "!pysarApp.py FernandinaSenDT128.txt --dostep loadData"
   ]
  },
  {
   "cell_type": "code",
   "execution_count": 11,
   "metadata": {
    "scrolled": false
   },
   "outputs": [
    {
     "name": "stdout",
     "output_type": "stream",
     "text": [
      "total 1643464\r\n",
      "-rw-r--r--  1 yunjunz  staff  109292360 Feb  5 21:54 ECMWF.h5\r\n",
      "-rw-r--r--  1 yunjunz  staff       1872 Feb  5 22:13 FernandinaSenDT128.txt\r\n",
      "-rw-r--r--  1 yunjunz  staff    2808168 Feb 12 00:06 geometryRadar.h5\r\n",
      "-rw-r--r--  1 yunjunz  staff  729342088 Feb 28 17:01 ifgramStack.h5\r\n"
     ]
    }
   ],
   "source": [
    "!ls -l INPUTS                      #check loaded files in PYSAR/INPUTS directory"
   ]
  },
  {
   "cell_type": "markdown",
   "metadata": {},
   "source": [
    "The **./INPUTS/ifgramStack.h5** file contains all unwrapped phase, spatial coherence, connected components (generated by SNAPHU) and the auxiliary data including the perpendicular baseline and dates for each interferogram."
   ]
  },
  {
   "cell_type": "code",
   "execution_count": 12,
   "metadata": {
    "scrolled": false
   },
   "outputs": [
    {
     "name": "stdout",
     "output_type": "stream",
     "text": [
      "******************** Basic File Info ************************\r\n",
      "file name: /Users/yunjunz/work/FernandinaSenDT128/PYSAR/INPUTS/ifgramStack.h5\r\n",
      "file type: ifgramStack\r\n",
      "coordinates : RADAR\r\n",
      "\r\n",
      "******************** HDF5 File Structure ********************\r\n",
      "Attributes in / level:\r\n",
      "  ALOOKS                                  1\r\n",
      "  ANTENNA_SIDE                            -1\r\n",
      "  AZIMUTH_PIXEL_SIZE                      15.616425207715931\r\n",
      "  CENTER_LINE_UTC                         42584.0\r\n",
      "  DATA_TYPE                               FLOAT\r\n",
      "  DATE12                                  141213-141225\r\n",
      "  EARTH_RADIUS                            6337286.638938101\r\n",
      "  FILE_LENGTH                             450\r\n",
      "  FILE_PATH                               /Users/yunjunz/Work/FernandinaSenDT128/ISCE/merged/interferograms/20141213_20141225/filt_fine.unw\r\n",
      "  FILE_TYPE                               ifgramStack\r\n",
      "  HEADING                                 53.4583740234375\r\n",
      "  HEIGHT                                  698834.2261352595\r\n",
      "  LAT_REF1                                -0.27142282744993307\r\n",
      "  LAT_REF2                                -0.2052012679974385\r\n",
      "  LAT_REF3                                -0.548154094069745\r\n",
      "  LAT_REF4                                -0.4814968797610026\r\n",
      "  LENGTH                                  450\r\n",
      "  LON_REF1                                -91.33901754364975\r\n",
      "  LON_REF2                                -91.64656503719202\r\n",
      "  LON_REF3                                -91.3957677459888\r\n",
      "  LON_REF4                                -91.70482299943559\r\n",
      "  ORBIT_DIRECTION                         DESCENDING\r\n",
      "  PLATFORM                                Sen\r\n",
      "  POLARIZATION                            VV\r\n",
      "  PRF                                     1717.128973878037\r\n",
      "  PROCESSOR                               isce\r\n",
      "  PROJECT_NAME                            FernandinaSenDT128\r\n",
      "  P_BASELINE_BOTTOM_HDR                   62.83694407961866\r\n",
      "  P_BASELINE_TOP_HDR                      62.83694407961866\r\n",
      "  RANGE_PIXEL_SIZE                        2.329562114715323\r\n",
      "  REF_X                                   156\r\n",
      "  REF_Y                                   76\r\n",
      "  RLOOKS                                  1\r\n",
      "  STARTING_RANGE                          799547.2189154713\r\n",
      "  UNIT                                    radian\r\n",
      "  WAVELENGTH                              0.05546576\r\n",
      "  WIDTH                                   600\r\n",
      "  access_mode                             READ\r\n",
      "  altitude                                698834.2261352595\r\n",
      "  azimuthPixelSize                        15.616425207715931\r\n",
      "  beam_mode                               IW\r\n",
      "  beam_swath                              12\r\n",
      "  byte_order                              l\r\n",
      "  data_type                               FLOAT\r\n",
      "  earthRadius                             6337286.638938101\r\n",
      "  family                                  image\r\n",
      "  file_name                               /Users/yunjunz/insarlab/test/FernandinaSenDT128/ISCE/merged/interferograms/20141213_20141225/filt_fine.unw\r\n",
      "  firstFrameNumber                        593\r\n",
      "  first_frame                             593\r\n",
      "  lastFrameNumber                         597\r\n",
      "  last_frame                              597\r\n",
      "  length                                  450\r\n",
      "  name                                    image_name\r\n",
      "  number_bands                            2\r\n",
      "  orbitNumber                             3700\r\n",
      "  passDirection                           DESCENDING\r\n",
      "  polarization                            VV\r\n",
      "  prf                                     1717.128973878037\r\n",
      "  pysar.deramp                            linear\r\n",
      "  pysar.load.azAngleFile                  ../ISCE/merged/geom_master/los.rdr\r\n",
      "  pysar.load.baselineDir                  ../ISCE/baselines\r\n",
      "  pysar.load.connCompFile                 ../ISCE/merged/interferograms/*/filt_*.unw.conncomp\r\n",
      "  pysar.load.corFile                      ../ISCE/merged/interferograms/*/filt_*.cor\r\n",
      "  pysar.load.demFile                      ../ISCE/merged/geom_master/hgt.rdr\r\n",
      "  pysar.load.incAngleFile                 ../ISCE/merged/geom_master/los.rdr\r\n",
      "  pysar.load.lookupXFile                  ../ISCE/merged/geom_master/lon.rdr\r\n",
      "  pysar.load.lookupYFile                  ../ISCE/merged/geom_master/lat.rdr\r\n",
      "  pysar.load.metaFile                     ../ISCE/master/IW*.xml\r\n",
      "  pysar.load.processor                    isce\r\n",
      "  pysar.load.shadowMaskFile               ../ISCE/merged/geom_master/shadowMask.rdr\r\n",
      "  pysar.load.unwFile                      ../ISCE/merged/interferograms/*/filt_*.unw\r\n",
      "  pysar.networkInversion.waterMaskFile    waterMask.h5\r\n",
      "  pysar.reference.lalo                    -0.30,-91.43\r\n",
      "  pysar.troposphericDelay.weatherDir      /Users/yunjunz/insarlab/WEATHER\r\n",
      "  radarWavelength                         0.05546576\r\n",
      "  rangePixelSize                          2.329562114715323\r\n",
      "  relative_orbit                          128\r\n",
      "  satelliteSpeed                          7597.177079370654\r\n",
      "  scheme                                  BIL\r\n",
      "  startUTC                                2014-12-13 11:49:44.367659\r\n",
      "  startingRange                           799547.2189154713\r\n",
      "  stopUTC                                 2014-12-13 11:50:07.299273\r\n",
      "  swathNumber                             12\r\n",
      "  trackNumber                             128\r\n",
      "  width                                   600\r\n",
      "  xmax                                    1670.0\r\n",
      "  xmin                                    1070.0\r\n",
      "\r\n",
      "HDF5 dataset \"/bperp               \": shape (288,)              , dtype <float32>\r\n",
      "HDF5 dataset \"/coherence           \": shape (288, 450, 600)     , dtype <float32>\r\n",
      "  MODIFICATION_TIME    1549947964.381114\r\n",
      "\r\n",
      "HDF5 dataset \"/connectComponent    \": shape (288, 450, 600)     , dtype <bool>\r\n",
      "  MODIFICATION_TIME    1549947965.7126982\r\n",
      "\r\n",
      "HDF5 dataset \"/date                \": shape (288, 2)            , dtype <|S8>\r\n",
      "HDF5 dataset \"/dropIfgram          \": shape (288,)              , dtype <bool>\r\n",
      "HDF5 dataset \"/unwrapPhase         \": shape (288, 450, 600)     , dtype <float32>\r\n",
      "  MODIFICATION_TIME    1549947957.303016\r\n",
      "\r\n",
      "\r\n"
     ]
    }
   ],
   "source": [
    "!info.py INPUTS/ifgramStack.h5     #use info.py / gdalinfo to check the HDF5 file information"
   ]
  },
  {
   "cell_type": "markdown",
   "metadata": {},
   "source": [
    "The **./INPUTS/geometryRadar.h5** file contains all geometry related data, including height, latitude, longitude, incidence angle, etc. If these files are in geo coordinates, then the output file will be geometryGeo.h5"
   ]
  },
  {
   "cell_type": "code",
   "execution_count": 13,
   "metadata": {},
   "outputs": [
    {
     "name": "stdout",
     "output_type": "stream",
     "text": [
      "******************** Basic File Info ************************\r\n",
      "file name: /Users/yunjunz/work/FernandinaSenDT128/PYSAR/INPUTS/geometryRadar.h5\r\n",
      "file type: geometry\r\n",
      "coordinates : RADAR\r\n",
      "\r\n",
      "******************** HDF5 File Structure ********************\r\n",
      "Attributes in / level:\r\n",
      "  ALOOKS                1\r\n",
      "  ANTENNA_SIDE          -1\r\n",
      "  AZIMUTH_PIXEL_SIZE    15.616425207715931\r\n",
      "  CENTER_LINE_UTC       42584.0\r\n",
      "  DATA_TYPE             DOUBLE\r\n",
      "  EARTH_RADIUS          6337286.638938101\r\n",
      "  FILE_LENGTH           450\r\n",
      "  FILE_PATH             /Users/yunjunz/Work/FernandinaSenDT128/ISCE/merged/geom_master/hgt.rdr\r\n",
      "  FILE_TYPE             geometry\r\n",
      "  HEADING               53.4583740234375\r\n",
      "  HEIGHT                698834.2261352595\r\n",
      "  LAT_REF1              -0.27142282744993307\r\n",
      "  LAT_REF2              -0.2052012679974385\r\n",
      "  LAT_REF3              -0.548154094069745\r\n",
      "  LAT_REF4              -0.4814968797610026\r\n",
      "  LENGTH                450\r\n",
      "  LON_REF1              -91.33901754364975\r\n",
      "  LON_REF2              -91.64656503719202\r\n",
      "  LON_REF3              -91.3957677459888\r\n",
      "  LON_REF4              -91.70482299943559\r\n",
      "  ORBIT_DIRECTION       DESCENDING\r\n",
      "  PLATFORM              Sen\r\n",
      "  POLARIZATION          VV\r\n",
      "  PRF                   1717.128973878037\r\n",
      "  PROCESSOR             isce\r",
      "\r\n",
      "  PROJECT_NAME          FernandinaSenDT128\r\n",
      "  RANGE_PIXEL_SIZE      2.329562114715323\r\n",
      "  RLOOKS                1\r\n",
      "  STARTING_RANGE        799547.2189154713\r\n",
      "  UNIT                  m\r\n",
      "  WAVELENGTH            0.05546576\r\n",
      "  WIDTH                 600\r\n",
      "  access_mode           READ\r\n",
      "  altitude              698834.2261352595\r\n",
      "  azimuthPixelSize      15.616425207715931\r\n",
      "  beam_mode             IW\r\n",
      "  beam_swath            12\r\n",
      "  byte_order            l\r\n",
      "  data_type             DOUBLE\r\n",
      "  earthRadius           6337286.638938101\r\n",
      "  family                image\r\n",
      "  file_name             /Users/yunjunz/insarlab/test/FernandinaSenDT128/ISCE/merged/geom_master/hgt.rdr\r\n",
      "  firstFrameNumber      593\r\n",
      "  first_frame           593\r\n",
      "  lastFrameNumber       597\r\n",
      "  last_frame            597\r\n",
      "  length                450\r\n",
      "  name                  image_name\r\n",
      "  number_bands          1\r\n",
      "  orbitNumber           3700\r\n",
      "  passDirection         DESCENDING\r\n",
      "  polarization          VV\r\n",
      "  prf                   1717.128973878037\r\n",
      "  radarWavelength       0.05546576\r\n",
      "  rangePixelSize        2.329562114715323\r\n",
      "  relative_orbit        128\r\n",
      "  satelliteSpeed        7597.177079370654\r\n",
      "  scheme                BIL\r\n",
      "  startUTC              2014-12-13 11:49:44.367659\r\n",
      "  startingRange         799547.2189154713\r\n",
      "  stopUTC               2014-12-13 11:50:07.299273\r\n",
      "  swathNumber           12\r\n",
      "  trackNumber           128\r\n",
      "  width                 600\r\n",
      "  xmax                  25057.0\r\n",
      "  xmin                  16057.0\r\n",
      "\r\n",
      "HDF5 dataset \"/azimuthAngle        \": shape (450, 600)          , dtype <float32>\r\n",
      "HDF5 dataset \"/height              \": shape (450, 600)          , dtype <float32>\r\n",
      "HDF5 dataset \"/incidenceAngle      \": shape (450, 600)          , dtype <float32>\r\n",
      "HDF5 dataset \"/latitude            \": shape (450, 600)          , dtype <float32>\r\n",
      "HDF5 dataset \"/longitude           \": shape (450, 600)          , dtype <float32>\r\n",
      "HDF5 dataset \"/shadowMask          \": shape (450, 600)          , dtype <bool>\r\n",
      "HDF5 dataset \"/slantRangeDistance  \": shape (450, 600)          , dtype <float32>\r\n",
      "\r\n"
     ]
    }
   ],
   "source": [
    "!info.py ./INPUTS/geometryRadar.h5"
   ]
  },
  {
   "cell_type": "markdown",
   "metadata": {},
   "source": [
    "### 2.2 Select reference point\n",
    "\n",
    "This step adds the reference point information into the **./INPUTS/ifgramStack.h5** by adding the metadata **REF_Y/X** and REF_LAT/LON if input dataset is geocoded. The reference point should have valid phase (not NaN or zero) in all interferograms.    \n",
    "\n",
    "The reference pixel can be selected in two ways:\n",
    "1. randomly among the pixels with high average spatial coherence (default threshold is 0.85).\n",
    "2. specified using prior knowledge of the study area `(recommended)`. The reference pixel should be:\n",
    "   1. located in a coherent area;\n",
    "   2. not be affected by strong atmospheric turbulence such as ionospheric streaks; \n",
    "   3. close to and with similar elevation as the area of interest to minimize the impact of the spatially correlated atmospheric delay. For example, Chaussard et al. (2013) and Morales-Rivera et al. (2016) studied volcano deformation using reference points on inactive, neighboring volcanoes.  \n",
    "   \n",
    "The corresponding template options are:\n",
    "```cfg\n",
    "## 1.1 Reference in Space\n",
    "## reference all interferograms to one common point in space\n",
    "## auto - randomly select a pixel with coherence > minCoherence\n",
    "pysar.reference.yx            = auto   #[257,151 / auto]\n",
    "pysar.reference.lalo          = -0.30,-91.43   #[31.8,130.8 / auto]\n",
    "pysar.reference.coherenceFile = auto   #[filename], auto for avgSpatialCoh.h5\n",
    "pysar.reference.minCoherence  = auto   #[0.0-1.0], auto for 0.85, minimum coherence for auto method\n",
    "pysar.reference.maskFile      = auto   #[filename / no], auto for maskConnComp.h5\n",
    "```\n",
    "   \n",
    "This step also generates two auxiliary files:\n",
    "+ maskConnComp.h5: the common connected components among all interferograms.\n",
    "+ avgSpatialCoh.h5: the average spatial coherence among all interferograms."
   ]
  },
  {
   "cell_type": "code",
   "execution_count": 14,
   "metadata": {},
   "outputs": [
    {
     "name": "stdout",
     "output_type": "stream",
     "text": [
      "PySAR version 1.0.0-dev, release date 2019-02-26\n",
      "Run routine processing with pysarApp.py on steps: ['refPoint']\n",
      "Remaining steps: ['stacking', 'unwCor', 'netModify', 'netInversion', 'LOD', 'tropo', 'deramp', 'topo', 'residRms', 'refDate', 'ts2vel', 'geocode', 'googleEarth', 'hdfeos5']\n",
      "--------------------------------------------------\n",
      "Go to work directory: /Users/yunjunz/work/FernandinaSenDT128/PYSAR\n",
      "read default template file: /Users/yunjunz/work/FernandinaSenDT128/PYSAR/pysarApp_template.txt\n",
      "\n",
      "******************** step - refPoint ********************\n",
      "generate_mask.py /Users/yunjunz/work/FernandinaSenDT128/PYSAR/INPUTS/ifgramStack.h5 --nonzero -o maskConnComp.h5 --update\n",
      "input ifgramStack file: /Users/yunjunz/work/FernandinaSenDT128/PYSAR/INPUTS/ifgramStack.h5\n",
      "--------------------------------------------------\n",
      "update mode: ON\n",
      "  1) output file maskConnComp.h5 already exists.\n",
      "  2) output file is newer than input dataset: connectComponent.\n",
      "check result: skip\n",
      "temporal_average.py /Users/yunjunz/work/FernandinaSenDT128/PYSAR/INPUTS/ifgramStack.h5 --dataset coherence -o avgSpatialCoh.h5 --update\n",
      "output file: avgSpatialCoh.h5\n",
      "--------------------------------------------------\n",
      "update mode: ON\n",
      "  1) output file avgSpatialCoh.h5 already exists.\n",
      "  2) output file is newer than input dataset: coherence.\n",
      "check result: skip\n",
      "reference_point.py /Users/yunjunz/work/FernandinaSenDT128/PYSAR/INPUTS/ifgramStack.h5 -t /Users/yunjunz/work/FernandinaSenDT128/PYSAR/pysarApp_template.txt -c avgSpatialCoh.h5\n",
      "--------------------------------------------------\n",
      "reading reference info from template: /Users/yunjunz/work/FernandinaSenDT128/PYSAR/pysarApp_template.txt\n",
      "input reference point in lat/lon: (-0.3, -91.43)\n",
      "input reference point in y/x: (76, 156)\n",
      "mask: maskConnComp.h5\n",
      "--------------------------------------------------\n",
      "Same reference pixel is already selected/saved in file, skip updating.\n",
      "Done.\n",
      "\n",
      "******************** plot / save to PIC ********************\n",
      "./plot_pysarApp.sh\n",
      "touch log file: plot_pysarApp.log\n",
      "Move *.png *.pdf into ./PIC folder\n",
      "mv: rename *.png to PIC/*.png: No such file or directory\n",
      "mv: rename *.pdf to PIC/*.pdf: No such file or directory\n",
      "mv: rename *.kmz to PIC/*.kmz: No such file or directory\n",
      "Go back to directory: /Users/yunjunz/work/FernandinaSenDT128/PYSAR\n",
      "\n",
      "################################################\n",
      "Normal end of PySAR routine processing workflow!\n",
      "################################################\n",
      "\n",
      "Total time: 00 mins 10.3 secs\n"
     ]
    }
   ],
   "source": [
    "!pysarApp.py --dostep refPoint"
   ]
  },
  {
   "cell_type": "code",
   "execution_count": 15,
   "metadata": {},
   "outputs": [
    {
     "name": "stdout",
     "output_type": "stream",
     "text": [
      "total 5528\r\n",
      "-rw-r--r--   1 yunjunz  staff     1872 Feb  5 22:13 FernandinaSenDT128.txt\r\n",
      "drwxr-xr-x   6 yunjunz  staff      204 Feb 12 00:06 \u001b[34mINPUTS\u001b[m\u001b[m\r\n",
      "drwxr-xr-x  13 yunjunz  staff      442 Feb 28 19:45 \u001b[34mPIC\u001b[m\u001b[m\r\n",
      "-rw-r--r--   1 yunjunz  staff  1108040 Feb 12 11:36 avgPhaseVelocity.h5\r\n",
      "-rw-r--r--   1 yunjunz  staff  1108040 Feb 12 11:36 avgSpatialCoh.h5\r\n",
      "-rw-r--r--   1 yunjunz  staff   287224 Feb 12 11:52 maskConnComp.h5\r\n",
      "-rwxr-xr-x   1 yunjunz  staff     5152 Feb 26 18:29 \u001b[31mplot_pysarApp.sh\u001b[m\u001b[m\r\n",
      "-rw-r--r--   1 yunjunz  staff    12480 Feb 12 00:05 pysarApp_template.txt\r\n",
      "-rw-r--r--   1 yunjunz  staff   287920 Feb  6 16:20 waterMask.h5\r\n"
     ]
    }
   ],
   "source": [
    "!ls -l"
   ]
  },
  {
   "cell_type": "code",
   "execution_count": 16,
   "metadata": {},
   "outputs": [
    {
     "name": "stdout",
     "output_type": "stream",
     "text": [
      "  REF_X                                   156\r\n",
      "  REF_Y                                   76\r\n"
     ]
    }
   ],
   "source": [
    "!info.py ./INPUTS/ifgramStack.h5 | egrep 'REF_'"
   ]
  },
  {
   "cell_type": "markdown",
   "metadata": {},
   "source": [
    "### 2.3 Average velocity from interferogram stacking\n",
    "+ [water mask](https://github.com/yunjunz/PySAR/blob/Notebook/examples/water_mask.ipynb)\n",
    "+ common mask from connected components of all interferograms\n",
    "+ average spatial coherence\n",
    "+ average phase velocity (traditional stacking)"
   ]
  },
  {
   "cell_type": "code",
   "execution_count": null,
   "metadata": {},
   "outputs": [],
   "source": [
    "\n",
    "!temporal_average.py INPUTS/ifgramStack.h5 --dataset unwrapPhase -o avgPhaseVelocity.h5 --update\n",
    "!generate_mask.py avgSpatialCoh.h5 -m 0.7 -o maskSpatialCoh.h5 --base waterMask.h5"
   ]
  },
  {
   "cell_type": "markdown",
   "metadata": {},
   "source": []
  },
  {
   "cell_type": "markdown",
   "metadata": {},
   "source": [
    "### 3.1 Network modification\n",
    "\n",
    "#### Coherence-based network modification\n",
    "<div class=\"alert alert-danger\">\n",
    "<b>Custom AOI:</b> \n",
    "A customized area of interest that includes the low coherent areas surrounding the areas with coherent phase-unwrapping error is highly recommended.\n",
    "</div>"
   ]
  },
  {
   "cell_type": "markdown",
   "metadata": {},
   "source": [
    "## Features\n",
    "\n",
    "+ ### update and re-run\n",
    "\n",
    "+ ### --start/end/dostep"
   ]
  },
  {
   "cell_type": "code",
   "execution_count": null,
   "metadata": {},
   "outputs": [],
   "source": []
  }
 ],
 "metadata": {
  "kernelspec": {
   "display_name": "Python 3",
   "language": "python",
   "name": "python3"
  },
  "language_info": {
   "codemirror_mode": {
    "name": "ipython",
    "version": 3
   },
   "file_extension": ".py",
   "mimetype": "text/x-python",
   "name": "python",
   "nbconvert_exporter": "python",
   "pygments_lexer": "ipython3",
   "version": "3.6.8"
  }
 },
 "nbformat": 4,
 "nbformat_minor": 2
}
