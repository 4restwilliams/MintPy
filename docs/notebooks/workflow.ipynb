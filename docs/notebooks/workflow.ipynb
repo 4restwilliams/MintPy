{
 "cells": [
  {
   "cell_type": "markdown",
   "metadata": {},
   "source": [
    "# Workflow of InSAR time series analysis\n",
    "\n",
    "We have implemented a generic routine processing workflow for InSAR time series analysis from a stack of unwrapped interferograms to displacement time-series (Fig. 5; implemented as `pysarApp.py`). The workflow consists of two main blocks:   \n",
    "1. correcting unwrapping errors and inversion for the raw phase time-series (blue ovals in Fig. 5; equation (2)),   \n",
    "2. correcting for noise from different sources to obtain the displacement time-series (green ovals in Fig.5; equation (4)).    \n",
    "\n",
    "It includes some optional steps, which are switched off by default (marked by dashed boundaries in Fig. 5), here we present the workflow in its most complete form. Configuration parameters for each step are initiated with default values in a customizable text file: [pysarApp_template.txt](https://github.com/yunjunz/PySAR/blob/master/docs/pysarApp_template.txt).     \n",
    "\n",
    "<p align=\"left\">\n",
    "  <img width=\"600\" src=\"docs/figs/workflow.pdf\">\n",
    "</p>     \n",
    "\n",
    "_**Figure 5.** Routine workflow of InSAR time series analysis in PySAR. Blue ovals: steps in the interferogram domain including unwrapping error correction and network inversion; green ovals: steps in the time-series domain including phase corrections for the tropospheric delay, phase ramps, and topographic residuals. White rectangles: input data. Green rectangles: output data. Optional steps/data are marked by dashed boundaries._"
   ]
  },
  {
   "cell_type": "markdown",
   "metadata": {},
   "source": [
    "## 1. Start point: InSAR stack\n",
    "\n",
    "The starting point is a stack of phase-unwrapped interferograms coregistered to a common SAR acquisition, corrected for earth curvature and topography. PySAR currently supports interferogram stacks produced by ROI_PAC, ISCE and GAMMA software (Rosen et al., 2004; Rosen et al, 2012; Werner et al., 2000). Some example file/directory structures are shown below:\n",
    "\n",
    "- [ISCE/topsStack](docs/dir_isce_tops.ipynb)\n",
    "- [ISCE/stripmapStack](docs/dir_isce_stripmap.ipynb)\n",
    "- [ROI_PAC](docs/dir_roipac.ipynb)\n",
    "- [GAMMA](docs/dir_gamma.ipynb)\n",
    "\n",
    "### Download example InSAR stack (FernandinaSenD128)\n",
    "\n",
    "- Sensor: Sentinel-1 A/B descending track 128<br>\n",
    "- Time: 13 Dec 2014 to 19 Jun 2018, 98 SAR acquisitions<br>\n",
    "- Processor: ISCE/topsStack (Rosen et al, 2012; Fattahi et al, 2016)<br>      \n",
    "\n",
    "Here we use a stack of interferograms from Sentinel-1 satellite acquired over Fernandina volcano, Galapagos, Ecuador as an example. We pair each SAR image with its three nearest neighbors back in time (sequential network; 288 interferograms in total); we multilook each interferogram by 15 and 5 looks in range and azimuth direction respectively, filter using a Goldstein filter with a strength of 0.2. We remove the topographic phase component using SRTM DEM (SRTMGL1, ~30m, 1 arc second with void-filled; Farr et al., 2005). The interferograms are phase-unwrapped using the minimum cost flow method (SNAPHU, Chen and Zebker, 2001)"
   ]
  },
  {
   "cell_type": "code",
   "execution_count": 10,
   "metadata": {
    "scrolled": false
   },
   "outputs": [
    {
     "name": "stdout",
     "output_type": "stream",
     "text": [
      "Go to work directory: /Users/yunjunz/Work\n",
      "Go to project directory: /Users/yunjunz/Work/FernandinaSenDT128/PYSAR\n"
     ]
    }
   ],
   "source": [
    "import os\n",
    "work_dir = os.path.expanduser('~/Work')\n",
    "if not os.path.isdir(work_dir):\n",
    "    os.makedirs(work_dir)\n",
    "    print('Create directory: {}'.format(work_dir))\n",
    "os.chdir(work_dir)\n",
    "print('Go to work directory: {}'.format(work_dir))\n",
    "\n",
    "if not os.path.isfile('FernandinaSenDT128.tar.xz'):\n",
    "    !wget https://zenodo.org/record/2562349/files/FernandinaSenDT128.tar.xz\n",
    "    !tar -xvJf FernandinaSenDT128.tar.xz\n",
    "proj_dir = os.path.join(work_dir, 'FernandinaSenDT128/PYSAR')\n",
    "os.chdir(proj_dir)\n",
    "print('Go to project directory: {}'.format(proj_dir))"
   ]
  },
  {
   "cell_type": "code",
   "execution_count": null,
   "metadata": {},
   "outputs": [],
   "source": [
    "![asf](docs/figs/workflow.png)"
   ]
  },
  {
   "cell_type": "markdown",
   "metadata": {},
   "source": []
  },
  {
   "cell_type": "markdown",
   "metadata": {},
   "source": [
    "`right?`\n",
    "\n",
    "`right!`\n"
   ]
  },
  {
   "cell_type": "markdown",
   "metadata": {},
   "source": [
    "# References\n",
    "+ Fattahi, H., P. Agram, and M. Simons (2016), A Network-Based Enhanced Spectral Diversity Approach for TOPS Time-Series Analysis, IEEE Transactions on Geoscience and Remote Sensing, 55(2), 777-786, doi:10.1109/TGRS.2016.2614925.\n",
    "\n",
    "+ Rosen, P. A., S. Hensley, G. Peltzer, and M. Simons (2004), Updated repeat orbit interferometry package released, Eos Trans. AGU, 85(5), 47-47, doi:10.1029/2004EO050004.\n",
    "\n",
    "+ Rosen, P. A., E. Gurrola, G. F. Sacco, and H. Zebker (2012), The InSAR scientific computing environment, paper presented at EUSAR 2012, 23-26 April 2012.\n",
    "\n",
    "+ Werner, C., U. Wegmüller, T. Strozzi, and A. Wiesmann (2000), Gamma SAR and interferometric processing software, paper presented at Proceedings of the ERS-Envisat symposium, Gothenburg, Sweden.\n",
    "\n",
    "+ Yunjun, Z., H. Fattahi, F. Amelung (2019), InSAR time series analysis: error correction and noise redunction (submitted)."
   ]
  },
  {
   "cell_type": "code",
   "execution_count": null,
   "metadata": {},
   "outputs": [],
   "source": []
  }
 ],
 "metadata": {
  "kernelspec": {
   "display_name": "Python 3",
   "language": "python",
   "name": "python3"
  },
  "language_info": {
   "codemirror_mode": {
    "name": "ipython",
    "version": 3
   },
   "file_extension": ".py",
   "mimetype": "text/x-python",
   "name": "python",
   "nbconvert_exporter": "python",
   "pygments_lexer": "ipython3",
   "version": "3.6.8"
  }
 },
 "nbformat": 4,
 "nbformat_minor": 2
}
